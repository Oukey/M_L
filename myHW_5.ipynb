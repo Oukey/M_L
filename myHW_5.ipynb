{
  "nbformat": 4,
  "nbformat_minor": 0,
  "metadata": {
    "colab": {
      "name": "myHW_5.ipynb",
      "version": "0.3.2",
      "provenance": [],
      "include_colab_link": true
    },
    "kernelspec": {
      "name": "python3",
      "display_name": "Python 3"
    }
  },
  "cells": [
    {
      "cell_type": "markdown",
      "metadata": {
        "id": "view-in-github",
        "colab_type": "text"
      },
      "source": [
        "<a href=\"https://colab.research.google.com/github/Oukey/M_L/blob/master/myHW_5.ipynb\" target=\"_parent\"><img src=\"https://colab.research.google.com/assets/colab-badge.svg\" alt=\"Open In Colab\"/></a>"
      ]
    },
    {
      "cell_type": "markdown",
      "metadata": {
        "id": "tpATm-3nMumX",
        "colab_type": "text"
      },
      "source": [
        "Импортируем нужные модули:"
      ]
    },
    {
      "cell_type": "code",
      "metadata": {
        "id": "6ulQBMYaL-9o",
        "colab_type": "code",
        "colab": {}
      },
      "source": [
        "import torch\n",
        "import torch.nn as nn\n",
        "import torchvision\n",
        "import torchvision.datasets as dsets\n",
        "import torchvision.transforms as transforms\n",
        "import numpy as np\n",
        "from torch.nn import Linear, Sigmoid\n",
        "from torch import optim, nn"
      ],
      "execution_count": 0,
      "outputs": []
    },
    {
      "cell_type": "markdown",
      "metadata": {
        "id": "4RZM2J1hNOso",
        "colab_type": "text"
      },
      "source": [
        "Задание гипер-параметров:"
      ]
    },
    {
      "cell_type": "code",
      "metadata": {
        "id": "DaNbzKaANSfl",
        "colab_type": "code",
        "colab": {}
      },
      "source": [
        "input_size = 28*28      # Размер изображения в точках\n",
        "hidden_size = 500       # Количество нейронов в скрытом сое\n",
        "num_classes = 10        # Количество распознающихся классов (10 цифр)\n",
        "n_epochs = 2            # Количество эпох\n",
        "batch_size = 4          # Размер мини-пакета входных данных\n",
        "lr = 0.01               # Скорость обучения"
      ],
      "execution_count": 0,
      "outputs": []
    },
    {
      "cell_type": "markdown",
      "metadata": {
        "id": "UA2eK1YjO7bA",
        "colab_type": "text"
      },
      "source": [
        "Загрузка и проверка размеров датасетов"
      ]
    },
    {
      "cell_type": "code",
      "metadata": {
        "id": "izXtBPi_PN_F",
        "colab_type": "code",
        "colab": {
          "base_uri": "https://localhost:8080/",
          "height": 50
        },
        "outputId": "848c5a21-6d82-4c78-9190-9f307b918448"
      },
      "source": [
        "mnist_trainset = dsets.MNIST(root='./data', train=True, download=True, transform=transforms.ToTensor())\n",
        "mnist_testset = dsets.MNIST(root='./data', train=False, download=True, transform=transforms.ToTensor())\n",
        "'''\n",
        "root - каталог размещения датасета\n",
        "download - необходимость скачивания датасета\n",
        "train - обучающий(True) или тестовый(False)\n",
        "transform - трансформация, предваритеьная обработка\n",
        "'''\n",
        "print(len(mnist_trainset))  # вывод размера обучающего датасета\n",
        "print(len(mnist_testset))  # вывод размера тестового датасета"
      ],
      "execution_count": 18,
      "outputs": [
        {
          "output_type": "stream",
          "text": [
            "60000\n",
            "10000\n"
          ],
          "name": "stdout"
        }
      ]
    },
    {
      "cell_type": "markdown",
      "metadata": {
        "id": "GFeUBp28QawG",
        "colab_type": "text"
      },
      "source": [
        "Обработка датасета мини-пакетами"
      ]
    },
    {
      "cell_type": "code",
      "metadata": {
        "id": "ouoaB0GdQieF",
        "colab_type": "code",
        "colab": {}
      },
      "source": [
        "# Загрузчик обучающих данных\n",
        "train_loader = torch.utils.data.DataLoader(dataset=mnist_trainset, batch_size=batch_size, shuffle=True)\n",
        "# Загрузчик тестовых данных\n",
        "test_loader = torch.utils.data.DataLoader(dataset=mnist_testset, batch_size=batch_size, shuffle=True)"
      ],
      "execution_count": 0,
      "outputs": []
    },
    {
      "cell_type": "markdown",
      "metadata": {
        "id": "VUxoVC8-R3yF",
        "colab_type": "text"
      },
      "source": [
        "Функция стандартного шага обучения"
      ]
    },
    {
      "cell_type": "code",
      "metadata": {
        "id": "l8NbuZLPSby9",
        "colab_type": "code",
        "colab": {}
      },
      "source": [
        "# Инициализация девайса\n",
        "device = 'cuda' if torch.cuda.is_available() else 'cpu'\n",
        "\n",
        "def make_train_step(model, loss_fn, otpimizer):\n",
        "    def train_step(x, y):\n",
        "        model.train()\n",
        "        yhat = model(x)\n",
        "        loss = loss_fn(yhat, y)\n",
        "        loss.backward()\n",
        "        optimizer.step()\n",
        "        optimizer.zero_grad()\n",
        "        return loss.item()\n",
        "    return train_step"
      ],
      "execution_count": 0,
      "outputs": []
    }
  ]
}