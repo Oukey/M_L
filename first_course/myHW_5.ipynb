{
  "nbformat": 4,
  "nbformat_minor": 0,
  "metadata": {
    "colab": {
      "name": "myHW_5.ipynb",
      "version": "0.3.2",
      "provenance": [],
      "include_colab_link": true
    },
    "kernelspec": {
      "name": "python3",
      "display_name": "Python 3"
    }
  },
  "cells": [
    {
      "cell_type": "markdown",
      "metadata": {
        "id": "view-in-github",
        "colab_type": "text"
      },
      "source": [
        "<a href=\"https://colab.research.google.com/github/Oukey/M_L/blob/master/myHW_5.ipynb\" target=\"_parent\"><img src=\"https://colab.research.google.com/assets/colab-badge.svg\" alt=\"Open In Colab\"/></a>"
      ]
    },
    {
      "cell_type": "markdown",
      "metadata": {
        "id": "tpATm-3nMumX",
        "colab_type": "text"
      },
      "source": [
        "Импортируем нужные модули:"
      ]
    },
    {
      "cell_type": "code",
      "metadata": {
        "id": "6ulQBMYaL-9o",
        "colab_type": "code",
        "colab": {}
      },
      "source": [
        "import torch\n",
        "import torch.nn as nn\n",
        "import torchvision\n",
        "import torchvision.datasets as dsets\n",
        "import torchvision.transforms as transforms\n",
        "import numpy as np\n",
        "from torch.nn import Linear, Sigmoid\n",
        "from torch import optim, nn"
      ],
      "execution_count": 0,
      "outputs": []
    },
    {
      "cell_type": "markdown",
      "metadata": {
        "id": "4RZM2J1hNOso",
        "colab_type": "text"
      },
      "source": [
        "Задание гипер-параметров:"
      ]
    },
    {
      "cell_type": "code",
      "metadata": {
        "id": "DaNbzKaANSfl",
        "colab_type": "code",
        "colab": {}
      },
      "source": [
        "input_size = 28*28      # Размер изображения в точках\n",
        "hidden_size = 500       # Количество нейронов в скрытом сое\n",
        "num_classes = 10        # Количество распознающихся классов (10 цифр)\n",
        "n_epochs = 2            # Количество эпох\n",
        "batch_size = 4          # Размер мини-пакета входных данных\n",
        "lr = 0.01               # Скорость обучения"
      ],
      "execution_count": 0,
      "outputs": []
    },
    {
      "cell_type": "markdown",
      "metadata": {
        "id": "UA2eK1YjO7bA",
        "colab_type": "text"
      },
      "source": [
        "Загрузка и проверка размеров датасетов"
      ]
    },
    {
      "cell_type": "code",
      "metadata": {
        "id": "izXtBPi_PN_F",
        "colab_type": "code",
        "colab": {
          "base_uri": "https://localhost:8080/",
          "height": 50
        },
        "outputId": "059e07a7-376a-425e-f3c3-8df6b414af6a"
      },
      "source": [
        "mnist_trainset = dsets.MNIST(root='./data', train=True, download=True, transform=transforms.ToTensor())\n",
        "mnist_testset = dsets.MNIST(root='./data', train=False, download=True, transform=transforms.ToTensor())\n",
        "'''\n",
        "root - каталог размещения датасета\n",
        "download - необходимость скачивания датасета\n",
        "train - обучающий(True) или тестовый(False)\n",
        "transform - трансформация, предваритеьная обработка\n",
        "'''\n",
        "print(len(mnist_trainset))  # вывод размера обучающего датасета\n",
        "print(len(mnist_testset))  # вывод размера тестового датасета"
      ],
      "execution_count": 44,
      "outputs": [
        {
          "output_type": "stream",
          "text": [
            "60000\n",
            "10000\n"
          ],
          "name": "stdout"
        }
      ]
    },
    {
      "cell_type": "markdown",
      "metadata": {
        "id": "GFeUBp28QawG",
        "colab_type": "text"
      },
      "source": [
        "Обработка датасета мини-пакетами"
      ]
    },
    {
      "cell_type": "code",
      "metadata": {
        "id": "ouoaB0GdQieF",
        "colab_type": "code",
        "colab": {}
      },
      "source": [
        "# Загрузчик обучающих данных\n",
        "train_loader = torch.utils.data.DataLoader(dataset=mnist_trainset, batch_size=batch_size, shuffle=True)\n",
        "# Загрузчик тестовых данных\n",
        "test_loader = torch.utils.data.DataLoader(dataset=mnist_testset, batch_size=batch_size, shuffle=True)"
      ],
      "execution_count": 0,
      "outputs": []
    },
    {
      "cell_type": "markdown",
      "metadata": {
        "id": "VUxoVC8-R3yF",
        "colab_type": "text"
      },
      "source": [
        "Функция стандартного шага обучения"
      ]
    },
    {
      "cell_type": "code",
      "metadata": {
        "id": "l8NbuZLPSby9",
        "colab_type": "code",
        "colab": {}
      },
      "source": [
        "# Инициализация девайса\n",
        "device = 'cuda' if torch.cuda.is_available() else 'cpu'\n",
        "\n",
        "def make_train_step(model, loss_fn, otpimizer):\n",
        "    def train_step(x, y):\n",
        "        model.train()\n",
        "        yhat = model(x)\n",
        "        loss = loss_fn(yhat, y)\n",
        "        loss.backward()\n",
        "        optimizer.step()\n",
        "        optimizer.zero_grad()\n",
        "        return loss.item()\n",
        "    return train_step"
      ],
      "execution_count": 0,
      "outputs": []
    },
    {
      "cell_type": "markdown",
      "metadata": {
        "id": "JI6CV1H0UnDh",
        "colab_type": "text"
      },
      "source": [
        "Задание модели, вида оптимизации. Обучение и расчет лосса"
      ]
    },
    {
      "cell_type": "code",
      "metadata": {
        "id": "KMZg1UrDUwps",
        "colab_type": "code",
        "colab": {
          "base_uri": "https://localhost:8080/",
          "height": 1000
        },
        "outputId": "c2d83ace-4bfe-46e4-f271-ce6801ee7e8e"
      },
      "source": [
        "model = torch.nn.Sequential(\n",
        "    nn.Linear(input_size, hidden_size),\n",
        "    nn.ReLU(),\n",
        "    nn.Linear(hidden_size, num_classes))\n",
        "model.to(device)\n",
        "\n",
        "loss_fn = torch.nn.CrossEntropyLoss()\n",
        "optimizer = optim.Adam(model.parameters(), lr=lr)\n",
        "\n",
        "train_step = make_train_step(model, loss_fn, optimizer)\n",
        "\n",
        "for epoch in range(n_epochs):\n",
        "    for images, labels in train_loader:\n",
        "        # преобразование в одномерный вектор\n",
        "        images = images.reshape(-1, 28*28).to(device)  \n",
        "        images = images.to(device)\n",
        "        labels = labels.to(device)\n",
        "        loss = train_step(images, labels)\n",
        "    print(epoch)\n",
        "\n",
        "print('model', model.state_dict())\n",
        "print('loss', loss)        "
      ],
      "execution_count": 47,
      "outputs": [
        {
          "output_type": "stream",
          "text": [
            "0\n",
            "1\n",
            "OrderedDict([('0.weight', tensor([[-1.6318e-02,  2.1214e-02, -1.8944e-02,  ...,  1.9201e-02,\n",
            "          2.5679e-02, -1.6846e-02],\n",
            "        [ 9.2470e-04, -2.5361e-02, -2.8592e-02,  ..., -3.0032e-02,\n",
            "         -2.5984e-02, -3.5322e-02],\n",
            "        [ 3.3203e-02,  2.7540e-02, -5.9779e-03,  ..., -6.8213e-03,\n",
            "         -3.1774e-03, -3.2339e-02],\n",
            "        ...,\n",
            "        [ 3.5554e-02,  2.1658e-02, -3.3162e-02,  ..., -2.9766e-02,\n",
            "          3.2393e-02,  3.0913e-02],\n",
            "        [ 6.8806e-04, -4.1299e-03,  2.2662e-02,  ...,  3.2200e-02,\n",
            "          1.2249e-02, -9.9145e-05],\n",
            "        [ 1.3947e-02,  3.5485e-03, -1.9517e-02,  ..., -2.1468e-02,\n",
            "          1.9904e-02, -1.3193e-02]])), ('0.bias', tensor([-1.7566e+00, -4.2776e-02, -5.3127e-02, -4.6501e-01, -6.0668e-02,\n",
            "        -1.8455e-01, -4.4093e-02, -2.6608e-02, -3.1624e-01, -3.5950e-02,\n",
            "        -9.1206e-02, -2.4765e-01, -8.8926e-02, -7.1994e-02, -5.7405e-02,\n",
            "        -6.5990e-02, -9.6530e-02, -4.0080e-02, -9.1521e-02, -1.0315e+00,\n",
            "        -3.5610e-01, -2.4026e-01, -4.4009e-01, -6.7156e-02, -9.6175e-01,\n",
            "        -2.0948e+00, -2.3818e-01, -9.1295e-02, -8.5028e-01, -4.5651e-02,\n",
            "        -1.6088e-01, -4.7465e-02, -2.0554e-01, -1.9714e-01,  7.9557e-03,\n",
            "        -6.5883e-02, -6.5760e-01, -2.5384e+00, -7.2064e-02, -1.0746e+00,\n",
            "        -6.7122e-02, -4.6125e-02, -2.5855e-01,  2.3687e-01, -2.7393e-01,\n",
            "        -1.3966e+00, -8.5585e-02, -3.4160e-01, -8.2127e-02, -6.0723e-02,\n",
            "        -2.5188e-02, -4.3381e-01, -7.1652e-01, -8.0544e-01, -3.3867e-01,\n",
            "        -3.2159e-02, -5.4117e-02, -6.4131e-01, -4.2550e-01, -3.0695e-02,\n",
            "        -8.6991e-02, -1.3554e-01, -4.3428e-02, -4.1173e-01, -4.8175e-02,\n",
            "        -4.8213e-02, -8.7967e-02, -2.7336e-02, -8.8284e-01, -7.7822e-01,\n",
            "         1.5567e-02, -8.9110e-02, -1.8019e-01, -4.0976e-02, -7.8366e-02,\n",
            "        -6.9226e-02, -5.6328e-02, -3.4301e-02, -8.6553e-02, -7.2099e-02,\n",
            "        -4.3632e-01, -7.8043e-02, -3.1253e-02, -6.1967e-02, -6.5046e-02,\n",
            "        -4.2138e-02, -9.3297e-02, -2.8984e-02, -4.4116e-01, -1.9953e-02,\n",
            "        -3.3382e-02, -4.6645e-01, -1.5732e-01, -5.8369e-02, -6.4795e-02,\n",
            "        -4.7301e-02, -1.2964e-01, -3.3968e-02, -4.7711e-02, -9.2889e-02,\n",
            "        -2.2177e-01, -3.6697e-02, -5.7728e-02, -9.2251e-02, -6.4448e-02,\n",
            "        -1.3133e+00, -6.0150e-02, -7.2999e-01, -1.0855e+00, -1.9067e-01,\n",
            "        -5.2508e-02, -6.1511e-02, -8.2107e-02, -2.4275e-01, -8.5442e-01,\n",
            "        -6.2170e-02, -8.4490e-02, -7.2150e-02, -7.1245e-01, -8.7257e-02,\n",
            "        -1.2069e-01, -7.2123e-02, -4.8183e-02, -4.6023e-02, -3.4091e-02,\n",
            "        -3.6578e-02, -7.7792e-02, -3.1622e-02, -7.6928e-02, -1.7124e-01,\n",
            "        -1.2418e-01, -2.1951e-02, -4.6593e-03, -6.1672e-02, -6.7918e-02,\n",
            "        -2.6644e-01, -7.2081e-01, -9.1957e-01, -1.6197e-01, -2.9860e-01,\n",
            "        -5.4271e-02, -1.5432e-01, -7.7695e-02, -3.1739e-02, -5.6240e-01,\n",
            "        -5.2607e-01, -3.0479e-01, -8.6689e-02, -7.7931e-02, -1.8881e+00,\n",
            "        -4.3016e-02, -2.6232e-02, -4.6152e-02, -3.1896e-02, -1.0106e-01,\n",
            "        -3.0201e-02,  1.7590e-01, -2.4473e-01, -3.4468e-01, -3.8650e-02,\n",
            "        -7.5187e-02, -8.9889e-02, -7.6268e-02, -7.2445e-02, -6.2701e-01,\n",
            "        -1.7644e+00, -5.9814e-02, -3.3497e-01, -2.3149e-01, -6.6236e-02,\n",
            "        -7.4451e-02, -3.4509e-01, -6.6612e-02, -2.4553e-02, -1.4392e-02,\n",
            "        -1.3653e-01, -6.4699e-02, -3.9195e-02, -6.9176e-02, -7.6589e-02,\n",
            "        -8.4922e-02, -1.6920e-01, -6.5619e-02, -6.4400e-02, -1.6945e-03,\n",
            "        -2.7696e-02, -5.8367e-02, -1.9665e-01, -4.3745e-01, -4.9882e-01,\n",
            "        -7.1365e-02, -5.0700e-01, -6.2236e-01, -2.1541e-01, -8.4151e-02,\n",
            "        -9.3213e-01, -1.2551e+00, -9.6058e-02, -3.1515e+00, -6.7097e-02,\n",
            "        -6.5710e-02, -6.8422e-02, -3.1863e-01, -6.6339e-02, -1.4923e-02,\n",
            "        -2.3680e-02, -8.1916e-02, -2.4109e-02, -2.8458e-01, -7.0550e-02,\n",
            "        -3.0050e-01, -6.5378e-02, -3.3370e-02, -1.1195e-01, -5.6745e-01,\n",
            "        -1.0157e+00, -1.4950e-01, -4.5014e-02, -2.9750e-02, -5.2935e-01,\n",
            "        -7.3393e-02, -2.0880e+00, -3.3844e-01, -7.5123e-02, -7.7307e-01,\n",
            "        -2.7544e-02, -3.0841e-03, -8.2852e-02, -7.4946e-02, -2.6963e-03,\n",
            "        -1.3916e-01, -7.1299e-02, -8.2086e-02, -4.9446e-01, -6.3678e-02,\n",
            "        -8.7426e-02, -8.7196e-02, -4.7862e-02, -4.0680e-02, -3.9494e-02,\n",
            "        -7.9822e-02, -8.1673e-01, -3.1009e-02, -3.4047e-02, -7.1156e-02,\n",
            "        -5.1564e-02, -3.5237e-01, -7.3446e-02, -7.0627e-02, -8.3254e-02,\n",
            "        -4.7593e-02, -7.0761e-01, -8.6937e-01, -3.3892e-02, -3.8764e-01,\n",
            "        -4.4790e-02,  3.0047e-01, -6.9134e-02, -1.0310e-01, -9.4445e-02,\n",
            "        -4.8282e-02, -3.4246e-02, -5.5468e-03, -5.5632e-01, -5.0288e-01,\n",
            "         4.4203e-03, -6.3074e-02, -8.9712e-02, -6.5456e-02, -8.0021e-02,\n",
            "        -3.3515e-02, -7.5471e-02, -4.6113e-02, -4.1630e-02, -3.8483e-02,\n",
            "        -2.1587e-01, -6.6122e-01, -6.4143e-01, -5.8252e-01, -6.3636e-01,\n",
            "        -9.3864e-02, -4.1939e-01, -4.6556e-02, -4.0067e-02, -7.6281e-02,\n",
            "        -3.9059e-01, -7.3865e-03, -5.5972e-01, -5.5745e-02, -8.1390e-02,\n",
            "        -5.6841e-01, -4.9540e-02, -1.6799e-01, -5.7402e-01, -2.9098e-02,\n",
            "        -5.1853e-01, -1.0085e+00, -2.8063e-02, -8.4961e-02, -2.5351e-01,\n",
            "        -9.1507e-02, -3.3243e-01, -1.4184e-01, -7.7614e-02, -8.5553e-02,\n",
            "        -8.3210e-01, -5.5627e-02, -9.0961e-02, -2.7071e-01, -2.5901e+00,\n",
            "        -1.5435e-02,  1.0922e-02, -1.3047e-01, -7.7521e-02, -3.4383e-01,\n",
            "        -8.0975e-02, -1.1612e-02, -1.4551e-01, -1.5771e+00, -4.6828e-02,\n",
            "        -3.7691e-01, -5.5592e-02, -1.3506e+00, -1.4875e+00,  1.5554e-01,\n",
            "        -3.0981e-02, -7.5878e-02, -5.8685e-02, -6.5787e-02, -1.7216e+00,\n",
            "        -1.3277e+00, -2.9459e-02, -5.6116e-02, -1.0102e-01, -5.3386e-02,\n",
            "        -4.7024e-02, -9.3252e-02, -3.1378e-01, -5.8315e-02, -8.9967e-02,\n",
            "        -3.1950e-01, -3.2331e-02, -1.3562e+00, -1.1737e-01, -1.0310e-01,\n",
            "        -8.7621e-02, -1.4988e-01, -3.2320e-02, -4.4262e-02, -5.9905e-02,\n",
            "        -4.0165e-02, -1.3576e-01, -8.6990e-02, -2.9657e-01, -7.1591e-02,\n",
            "        -5.5009e-02, -1.7030e+00, -6.7106e-02, -2.4400e-01, -1.2108e-02,\n",
            "        -6.8354e-02, -2.0380e-01, -2.1003e-02, -2.7242e+00, -6.3023e-01,\n",
            "        -6.4542e-02, -6.2410e-02, -2.6711e-01, -1.0041e-01, -6.6065e-01,\n",
            "        -7.3074e-01, -4.0904e-01, -8.2666e-02, -1.4527e+00, -4.0660e-02,\n",
            "        -8.6923e-02, -6.1864e-02, -5.0581e-02, -2.3636e-01, -3.9556e-02,\n",
            "        -7.8810e-02, -1.9543e+00, -7.8709e-01, -8.3742e-02, -6.4243e-02,\n",
            "        -9.7391e-01, -2.6105e-01, -1.5261e+00, -5.6562e-02, -2.6159e-02,\n",
            "        -7.2907e-02, -7.9630e-02, -1.4589e-01, -3.3075e-01, -6.3666e-01,\n",
            "        -8.5121e-02, -6.6985e-01, -4.5112e-02, -7.4410e-01, -6.5674e-02,\n",
            "        -6.2600e-02, -7.7003e-02, -6.7134e-01, -7.9790e-02, -6.6206e-02,\n",
            "        -8.4349e-01, -3.0955e-02, -8.1682e-02, -3.2127e-01, -1.1219e-02,\n",
            "        -7.2147e-02, -8.3354e-02, -6.3564e-02, -1.7277e-01, -3.9268e-01,\n",
            "        -1.4598e+00, -4.7618e-02, -7.2580e-02, -2.0005e+00, -7.5482e-02,\n",
            "        -6.7331e-02, -3.6965e-01, -3.1836e-02, -7.0157e-02, -9.4608e-01,\n",
            "        -2.9942e-02, -5.8653e-02, -1.1645e+00, -7.8419e-02, -3.4259e-01,\n",
            "        -5.8509e-02, -8.8447e-02, -5.0447e-01, -2.2986e-01,  9.8455e-02,\n",
            "        -5.0400e-01, -8.1286e-01, -1.1404e-01, -2.8685e-02, -3.1314e-01,\n",
            "        -7.2794e-02, -5.9739e-02, -1.0942e-02, -9.9342e-02, -9.5023e-01,\n",
            "        -9.1761e-02, -6.4294e-02, -1.3985e+00, -3.8929e-02, -6.9530e-01,\n",
            "        -3.0214e-01, -3.5405e-02, -3.0682e-02, -1.2228e-01, -3.2996e-01,\n",
            "        -5.5026e-02, -1.9682e+00, -4.4099e-02, -6.4421e-01, -1.5671e-01,\n",
            "        -3.2593e-02, -2.7397e-02, -8.4059e-02, -7.5410e-02, -4.8244e-02,\n",
            "        -8.6925e-02, -5.8157e-02, -1.1820e+00, -7.5944e-02, -5.5385e-02,\n",
            "        -9.7313e-02, -1.5332e-01, -6.4496e-02, -1.0262e-01, -4.2919e-01,\n",
            "        -6.4776e-02, -3.6797e-01, -2.3888e-02, -7.3339e-02, -2.6226e-01,\n",
            "        -1.0242e+00, -1.7424e-01, -2.9508e-02, -6.1978e-02, -8.0599e-02,\n",
            "        -7.8345e-01, -1.1350e+00, -6.7680e-02, -1.8460e-01, -3.9009e-02,\n",
            "        -2.9180e-02, -1.0718e-01, -2.2092e-01, -3.6964e-01, -8.3688e-03,\n",
            "        -4.3573e-02, -1.1979e-02, -6.4294e-02, -5.3284e-02, -3.1332e-02])), ('2.weight', tensor([[-2.4844e-01, -8.9292e-02,  6.1439e-02,  ..., -2.0337e-02,\n",
            "         -2.5223e-02,  7.6980e-02],\n",
            "        [-6.4319e-01, -7.2997e-02, -7.0170e-03,  ...,  3.1330e-02,\n",
            "         -7.2870e-02,  1.5461e-03],\n",
            "        [-1.7016e-01, -2.9134e-02,  5.9609e-02,  ..., -7.9834e-02,\n",
            "         -3.7980e-02,  6.6568e-02],\n",
            "        ...,\n",
            "        [-5.1069e-01, -2.9826e-02, -7.4820e-02,  ..., -8.5210e-02,\n",
            "         -9.5055e-02, -1.1564e-01],\n",
            "        [-4.9257e-01, -2.0317e-02, -8.4672e-03,  ..., -8.8297e-02,\n",
            "         -6.5236e-02,  3.8116e-03],\n",
            "        [-1.5662e+00, -8.7146e-02, -1.1420e-01,  ..., -6.7680e-02,\n",
            "         -5.7692e-02, -7.6824e-02]])), ('2.bias', tensor([ 0.6432, -1.6578, -0.0779,  0.0161, -0.4719, -0.5525, -0.4632, -1.5487,\n",
            "         1.8236,  0.2850]))])\n",
            "0.0026539862155914307\n"
          ],
          "name": "stdout"
        }
      ]
    },
    {
      "cell_type": "markdown",
      "metadata": {
        "id": "Pu9SePSqZAGf",
        "colab_type": "text"
      },
      "source": [
        "Проверка точности обработки 10.000 тестовых изображений"
      ]
    },
    {
      "cell_type": "code",
      "metadata": {
        "id": "ZBri_8SrZHrD",
        "colab_type": "code",
        "colab": {
          "base_uri": "https://localhost:8080/",
          "height": 34
        },
        "outputId": "f45d735e-0994-4dda-b7bf-954b4cb5864b"
      },
      "source": [
        "with torch.no_grad():\n",
        "    correct = 0\n",
        "    total = 0\n",
        "    for images, labels in test_loader:\n",
        "        images = images.reshape(-1, 28*28).to(device)\n",
        "        images = images.to(device)\n",
        "        labels = labels.to(device)\n",
        "        outputs = model(images)\n",
        "        _, predicted = torch.max(outputs.data, 1)\n",
        "        total += labels.size(0)\n",
        "        correct += (predicted == labels).sum().item()\n",
        "    print('Точность: {}%'.format(100 * correct / total))"
      ],
      "execution_count": 50,
      "outputs": [
        {
          "output_type": "stream",
          "text": [
            "Точность: 92.6%\n"
          ],
          "name": "stdout"
        }
      ]
    },
    {
      "cell_type": "markdown",
      "metadata": {
        "id": "pNxUSIXnf-su",
        "colab_type": "text"
      },
      "source": [
        "Сохранение обученной модели"
      ]
    },
    {
      "cell_type": "code",
      "metadata": {
        "id": "m5DUi-ssgKn2",
        "colab_type": "code",
        "colab": {}
      },
      "source": [
        "torch.save(model, 'mnist_full.pt')"
      ],
      "execution_count": 0,
      "outputs": []
    },
    {
      "cell_type": "markdown",
      "metadata": {
        "id": "Wkv22y3ugdXG",
        "colab_type": "text"
      },
      "source": [
        "Загрузка модели"
      ]
    },
    {
      "cell_type": "code",
      "metadata": {
        "id": "oN-u7-Flgf0f",
        "colab_type": "code",
        "colab": {
          "base_uri": "https://localhost:8080/",
          "height": 101
        },
        "outputId": "e87880de-c929-4f19-e7a8-33c7fcabd47d"
      },
      "source": [
        "model = torch.load('mnist_full.pt')\n",
        "model.eval()"
      ],
      "execution_count": 52,
      "outputs": [
        {
          "output_type": "execute_result",
          "data": {
            "text/plain": [
              "Sequential(\n",
              "  (0): Linear(in_features=784, out_features=500, bias=True)\n",
              "  (1): ReLU()\n",
              "  (2): Linear(in_features=500, out_features=10, bias=True)\n",
              ")"
            ]
          },
          "metadata": {
            "tags": []
          },
          "execution_count": 52
        }
      ]
    },
    {
      "cell_type": "markdown",
      "metadata": {
        "id": "eFJz8jd9g5ee",
        "colab_type": "text"
      },
      "source": [
        "Визуальная проверка обученной модели. Код выводит четыре случайных изображения из датасета и указывает под ними соответствующие им классы (прогноз), которые заданы в списке classes:"
      ]
    },
    {
      "cell_type": "code",
      "metadata": {
        "id": "sSlE_c85hTue",
        "colab_type": "code",
        "colab": {
          "base_uri": "https://localhost:8080/",
          "height": 156
        },
        "outputId": "0e08fb10-8733-49b5-cb61-faaad9e17899"
      },
      "source": [
        "import matplotlib.pyplot as plt\n",
        "import numpy as np\n",
        "\n",
        "classes = ('0', '1', '2', '3', '4', '5', '6', '7', '8', '9')\n",
        "\n",
        "def imshow(img):\n",
        "    img = img / 2 + 0.5\n",
        "    npimg = img.numpy()\n",
        "    plt.imshow(np.transpose(npimg, (1, 2, 0)))\n",
        "    plt.show()\n",
        "    \n",
        "dataiter = iter(train_loader)\n",
        "images, labels = dataiter.next()\n",
        "\n",
        "imshow(torchvision.utils.make_grid(images))\n",
        "print(' '.join('%10s' % classes[labels[j]] for j in range(4)))"
      ],
      "execution_count": 76,
      "outputs": [
        {
          "output_type": "display_data",
          "data": {
            "image/png": "[encoded data removed]",
            "text/plain": [
              "<Figure size 432x288 with 1 Axes>"
            ]
          },
          "metadata": {
            "tags": []
          }
        },
        {
          "output_type": "stream",
          "text": [
            "         6          3          5          2\n"
          ],
          "name": "stdout"
        }
      ]
    }
  ]
}
