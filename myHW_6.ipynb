{
  "nbformat": 4,
  "nbformat_minor": 0,
  "metadata": {
    "colab": {
      "name": "myHW_6.ipynb",
      "version": "0.3.2",
      "provenance": [],
      "collapsed_sections": [],
      "include_colab_link": true
    },
    "kernelspec": {
      "name": "python3",
      "display_name": "Python 3"
    },
    "accelerator": "GPU"
  },
  "cells": [
    {
      "cell_type": "markdown",
      "metadata": {
        "id": "view-in-github",
        "colab_type": "text"
      },
      "source": [
        "<a href=\"https://colab.research.google.com/github/Oukey/M_L/blob/master/myHW_6.ipynb\" target=\"_parent\"><img src=\"https://colab.research.google.com/assets/colab-badge.svg\" alt=\"Open In Colab\"/></a>"
      ]
    },
    {
      "cell_type": "markdown",
      "metadata": {
        "id": "jX5f9p64CRIM",
        "colab_type": "text"
      },
      "source": [
        "## Занятие 6. Выполнение задания"
      ]
    },
    {
      "cell_type": "markdown",
      "metadata": {
        "id": "gpMItAP7CnFW",
        "colab_type": "text"
      },
      "source": [
        "Импорт нужных пакетов"
      ]
    },
    {
      "cell_type": "code",
      "metadata": {
        "id": "b68tmBkwCLwZ",
        "colab_type": "code",
        "colab": {}
      },
      "source": [
        "import torch\n",
        "import torch.nn as nn\n",
        "import torchvision\n",
        "import torchvision.datasets as dsets\n",
        "import torchvision.transforms as transforms"
      ],
      "execution_count": 0,
      "outputs": []
    },
    {
      "cell_type": "markdown",
      "metadata": {
        "id": "70OlaXbsDOVv",
        "colab_type": "text"
      },
      "source": [
        "Обработка стандартного датасета **CIFAR10**(фотографии десяти классов: автомобиль, самолет, птица, кот, олень, собака, лягушка, лошадь, корабль и грузовик). 60000 цветных изображений (50000 обучающих и 10000 тестовых)  размером 32*32 пиксела (RGB) "
      ]
    },
    {
      "cell_type": "code",
      "metadata": {
        "id": "AUDx49QdD6ke",
        "colab_type": "code",
        "colab": {}
      },
      "source": [
        "input_size = 3 * 32 * 32  # Количество цветов * размер изображения в точках\n",
        "num_classes = 10          # Количество классов (10 видов изображений)\n",
        "n_epochs = 2              # Количество эпох\n",
        "batch_size = 4            # Размер мини-пакета входных данных\n",
        "lr = 0.001                # Скорость обучения "
      ],
      "execution_count": 0,
      "outputs": []
    },
    {
      "cell_type": "markdown",
      "metadata": {
        "id": "qbPitxg_GRsv",
        "colab_type": "text"
      },
      "source": [
        "Выполнение композиции трансформации с выполнением преобразования в тензоры с последующей нормализацией (преобразование цветных изображений в серую палитру)."
      ]
    },
    {
      "cell_type": "code",
      "metadata": {
        "id": "JeX6ZFTjH-YY",
        "colab_type": "code",
        "colab": {
          "base_uri": "https://localhost:8080/",
          "height": 84
        },
        "outputId": "39f60553-e6a2-4962-f953-3fe44a0c9237"
      },
      "source": [
        "import torchvision.transforms as transforms\n",
        "\n",
        "transform = transforms.Compose(\n",
        "    [transforms.ToTensor(),\n",
        "     transforms.Normalize((0.5, 0.5, 0.5), (0.5, 0.5, 0.5))])\n",
        "\n",
        "# Обучающий датасет\n",
        "cifar_trainset = dsets.CIFAR10(root='./data', train=True, download=True, transform=transform)\n",
        "# Тестовый датасет\n",
        "cifar_testset = dsets.CIFAR10(root='./data', train=False, download=True, transform=transform)\n",
        "\n",
        "print('Размер обучающего датасета:', len(cifar_trainset))\n",
        "print('Размер тестового датасета:', len(cifar_testset))"
      ],
      "execution_count": 7,
      "outputs": [
        {
          "output_type": "stream",
          "text": [
            "Files already downloaded and verified\n",
            "Files already downloaded and verified\n",
            "Размер обучающего датасета: 50000\n",
            "Размер тестового датасета: 10000\n"
          ],
          "name": "stdout"
        }
      ]
    },
    {
      "cell_type": "markdown",
      "metadata": {
        "id": "vOQTDnjFLkBM",
        "colab_type": "text"
      },
      "source": [
        "Загрузка данных для обучения и тестирования"
      ]
    },
    {
      "cell_type": "code",
      "metadata": {
        "id": "rAWXKbDdLqDt",
        "colab_type": "code",
        "colab": {}
      },
      "source": [
        "train_loader = torch.utils.data.DataLoader(dataset=cifar_trainset, batch_size=batch_size, shuffle=True)\n",
        "test_loader = torch.utils.data.DataLoader(dataset=cifar_testset, batch_size=batch_size, shuffle=True)"
      ],
      "execution_count": 0,
      "outputs": []
    },
    {
      "cell_type": "markdown",
      "metadata": {
        "id": "JiBA54_CNqCz",
        "colab_type": "text"
      },
      "source": [
        "Инициализация девайса и стандартная фукция \"шаг обучения\""
      ]
    },
    {
      "cell_type": "code",
      "metadata": {
        "id": "VwhcBnF7N4Eu",
        "colab_type": "code",
        "colab": {}
      },
      "source": [
        "device = 'cuda' if torch.cuda.is_available() else 'cpu'\n",
        "\n",
        "def make_train_step(model, loss_fn, optimizer):\n",
        "    def train_step(x, y):\n",
        "        model.train()\n",
        "        yhat = model(x)\n",
        "        loss = loss_fn(yhat, y)\n",
        "        loss.backward()\n",
        "        optimizer.step()\n",
        "        optimizer.zero_grad()\n",
        "        return loss.item()\n",
        "    return train_step"
      ],
      "execution_count": 0,
      "outputs": []
    },
    {
      "cell_type": "markdown",
      "metadata": {
        "id": "XYA498M7PPTY",
        "colab_type": "text"
      },
      "source": [
        "Модель обучения"
      ]
    },
    {
      "cell_type": "code",
      "metadata": {
        "id": "1vaU60CfPRCP",
        "colab_type": "code",
        "colab": {}
      },
      "source": [
        ""
      ],
      "execution_count": 0,
      "outputs": []
    }
  ]
}