{
  "nbformat": 4,
  "nbformat_minor": 0,
  "metadata": {
    "kernelspec": {
      "display_name": "Python 3",
      "language": "python",
      "name": "python3"
    },
    "language_info": {
      "name": "python",
      "version": "3.6.5",
      "mimetype": "text/x-python",
      "codemirror_mode": {
        "name": "ipython",
        "version": 3
      },
      "pygments_lexer": "ipython3",
      "nbconvert_exporter": "python",
      "file_extension": ".py"
    },
    "colab": {
      "name": "myML1_8.ipynb",
      "provenance": [],
      "collapsed_sections": [
        "U4L7dXOGoYkU",
        "kw_J5ar7oYkW",
        "RNgUXiMcoYmQ"
      ],
      "include_colab_link": true
    }
  },
  "cells": [
    {
      "cell_type": "markdown",
      "metadata": {
        "id": "view-in-github",
        "colab_type": "text"
      },
      "source": [
        "<a href=\"https://colab.research.google.com/github/Oukey/M_L/blob/master/myML1_8.ipynb\" target=\"_parent\"><img src=\"https://colab.research.google.com/assets/colab-badge.svg\" alt=\"Open In Colab\"/></a>"
      ]
    },
    {
      "cell_type": "markdown",
      "metadata": {
        "id": "usygpBuMoYjl",
        "colab_type": "text"
      },
      "source": [
        "# **Занятие 8. Соревнования на Kaggle**\n",
        "\n",
        "https://vk.com/lambda_brain\n",
        "\n",
        "## **Часть 1. Методика предварительного анализа исходных данных**\n",
        "\n",
        "Kaggle -- это сервис спортивного программирования по машинному обучению, поддерживаемый Google. В нём регулярно организуются соревнования: формулируется задача, даются исходные данные (как правило, необработанные), после чего участники отправляют свои решения (точнее, результаты работы модели), которые участвуют в общем рейтинге. По сути, такие задачи максимально приближены к проектам реального мира. \n",
        "\n",
        "Регулярные участники соревнований на Kaggle, стабильно показывающие высокие результаты, пользуются на рынке труда очень высоким спросом. Вообще хорошие рейтинги на Kaggle -- это по сути гарантированный объективный показатель высокого профессионализма в машинном обучении и Data Science.\n",
        "\n",
        "Мы разберём одно типичное соревнование **Titanic** -- пройдём с самого начала, регистрации, изучения задания, обработки данных, до создания и проверки модели и отправки результата на сервер и участия в рейтинге.\n"
      ]
    },
    {
      "cell_type": "markdown",
      "metadata": {
        "id": "TqmRB9MeoYjo",
        "colab_type": "text"
      },
      "source": [
        "---\n",
        "\n",
        "Прежде всего, зарегистрируйтесь любым способом на https://www.kaggle.com (лучше войти через свой google-аккаунт)."
      ]
    },
    {
      "cell_type": "markdown",
      "metadata": {
        "id": "XjyQZD0roYjq",
        "colab_type": "text"
      },
      "source": [
        "---\n",
        "\n",
        "Далее, присоединитесь к соревнованию \"Титаник\":\n",
        "https://www.kaggle.com/c/titanic/\n",
        "\n",
        "Задание таково: существует подробная статистика по пассажирам легендарного корабля Титаник, когда в катастрофе 1912-го года из 2224 пассажиров погибло 1502 человека. Спасательных шлюпок на всех не хватило, и кому-то определённо просто повезло, однако больше шансов на выживание, как оказалось, имели женщины, дети, и пассажиры высших классов. Соответственно, надо выполнить бинарную классификацию датасета (наборы признаков по каждому пассажиру) и спрогнозировать, какие из пассажиров выживут.\n",
        "\n",
        "Под это задание есть немало готовых ноутбуков и туториалов, воспользуемся одной из стандартных схем обработки входных сырых данных: \n",
        "https://www.kaggle.com/startupsci/titanic-data-science-solutions\n",
        "\n",
        "В этом руководстве попутно можно найти немало типовых методов решения подобных задач. Разберём методику обработки исходных данных более подробно.\n"
      ]
    },
    {
      "cell_type": "markdown",
      "metadata": {
        "id": "C7_sixe8oYjs",
        "colab_type": "text"
      },
      "source": [
        "Для начала желательно создать рабочий ноутбук непосредственно на Kaggle. Этот сервис, как и Google Colab, поддерживает облачное исполнение скриптов и ноутбуков в небольшой виртуальной машине, но имеет ряд технических отличий.\n",
        "\n",
        "Во-первых, **ноутбук в Kaggle называется kernel (ядро)**. Точнее, kernel может исполнять как обычные ноутбуки (код и текст), так и скрипты (обычный код, который например позволяет сразу отправить результат на Kaggle). Мы будем работать в режиме ноутбука.\n",
        "\n",
        "**Новый ноутбук создаётся нажатием кнопки New Kernel и выбором режима New Notebook**.\n",
        "\n",
        "---\n"
      ]
    },
    {
      "cell_type": "markdown",
      "metadata": {
        "id": "nnFIeE3zoYju",
        "colab_type": "text"
      },
      "source": [
        "Во-вторых, интерфейс ноутбука на Kaggle немного отличается от Google Colab -- в нём нельзя сохранять ноутбук в облако, а можно только делать комиты на сервер - как в классических системах контроля версий (кнопка Commit справа вверху).\n",
        "Кроме того, ноутбук kaggle может периодически зависать с сообщением \"**Failed to save draft**\", после чего незакомиченная работа пропадёт, поэтому рекомендуется периодически выгружать ноутбук локально к себе на компьютер (File - Download Notebook).\n",
        "\n",
        "---"
      ]
    },
    {
      "cell_type": "markdown",
      "metadata": {
        "id": "uD4oqq8YoYjv",
        "colab_type": "text"
      },
      "source": [
        "В-третьих, создавая новый ноутбук непосредственно из окна соревнования, в которое вы включились, вы сразу же получаете доступ к виртуалке, где все нужные исходные данные загружены в соответствующие каталоги, что весьма удобно."
      ]
    },
    {
      "cell_type": "markdown",
      "metadata": {
        "id": "rfWLmC38oYjx",
        "colab_type": "text"
      },
      "source": [
        "# Разбираемся с исходными данными\n",
        "\n",
        "Входные данные соревнования традиционно располагаются в каталоге ../input/titanic по отношению к некоему \"текущему\" каталогу, где работает код ноутбука. Можно получить его содержимое программно:\n"
      ]
    },
    {
      "cell_type": "code",
      "metadata": {
        "trusted": true,
        "id": "57bwGTXaoYjz",
        "colab_type": "code",
        "outputId": "94dd3d5e-98bd-4ddf-a930-8f30102c5ecd",
        "colab": {}
      },
      "source": [
        "import os\n",
        "print(os.listdir(\"../input/titanic\"))"
      ],
      "execution_count": 0,
      "outputs": [
        {
          "output_type": "stream",
          "text": [
            "['test.csv', 'train.csv', 'gender_submission.csv']\n"
          ],
          "name": "stdout"
        }
      ]
    },
    {
      "cell_type": "markdown",
      "metadata": {
        "id": "OMTkJEb0oYj6",
        "colab_type": "text"
      },
      "source": [
        "Или обычной системной командой:"
      ]
    },
    {
      "cell_type": "code",
      "metadata": {
        "trusted": true,
        "id": "S9YUNGt5oYj7",
        "colab_type": "code",
        "colab": {}
      },
      "source": [
        "!ls ../input/titanic"
      ],
      "execution_count": 0,
      "outputs": []
    },
    {
      "cell_type": "markdown",
      "metadata": {
        "id": "3COOo9NgoYkB",
        "colab_type": "text"
      },
      "source": [
        "Мы видим три файла в формате .CSV. Их краткое описание можно найти на вкладке Data страницы соревнования.\n",
        "\n",
        "train.csv содержит сырые данные для обучения, test.csv -- тестовые данные, а gender_submission.csv -- пример результирующего файла, который надо отправлять на соревнование для оценки.\n",
        "\n",
        "---"
      ]
    },
    {
      "cell_type": "markdown",
      "metadata": {
        "id": "zhMMG-aYoYkC",
        "colab_type": "text"
      },
      "source": [
        "Подключим пакеты **NumPy** (библиотека численных вычислений) и **Panda** (работа с данными), они требуются обычно практически в каждом полноценном проекте машинного обучения."
      ]
    },
    {
      "cell_type": "code",
      "metadata": {
        "_uuid": "8f2839f25d086af736a60e9eeb907d3b93b6e0e5",
        "_cell_guid": "b1076dfc-b9ad-4769-8c92-a6c4dae69d19",
        "trusted": true,
        "id": "--4kuaZBoYkE",
        "colab_type": "code",
        "colab": {}
      },
      "source": [
        "import numpy as np\n",
        "import pandas as pd"
      ],
      "execution_count": 0,
      "outputs": []
    },
    {
      "cell_type": "markdown",
      "metadata": {
        "id": "N82kvnoZoYkK",
        "colab_type": "text"
      },
      "source": [
        "Прежде всего нам требуется получить какое-то минимальное представление о данных, с которыми предстоит работать.\n",
        "\n",
        "Загрузим данные в два датасета, и посмотрим структуру обучающей выборки и её размеры.\n"
      ]
    },
    {
      "cell_type": "code",
      "metadata": {
        "trusted": true,
        "_uuid": "f66eed17ca77cd4973b8f00c510c5d98e4dc2af7",
        "id": "_wAaDiFqoYkM",
        "colab_type": "code",
        "colab": {}
      },
      "source": [
        "dataset = pd.read_csv('../input/titanic/train.csv') # обучающая выборка\n",
        "X_test = pd.read_csv('../input/titanic/test.csv') # тестовая выборка\n",
        "print(dataset.shape) # структура датасета\n",
        "print(dataset[:10]) # первые 10 значений"
      ],
      "execution_count": 0,
      "outputs": []
    },
    {
      "cell_type": "markdown",
      "metadata": {
        "id": "7OPb2TQ7oYkR",
        "colab_type": "text"
      },
      "source": [
        "Всего в обучающем датасете 891 запись.\n",
        "\n",
        "Структура обучающей выборки, как следует из описания условий соревнования, такова: \n",
        "\n",
        "- PassengerId - Id пассажира, \n",
        "- Survived - выжил или нет 1/0, \n",
        "- Pclass - класс пассажира (1,2,3), \n",
        "- Name - имя, \n",
        "- Sex - пол, \n",
        "- Age - возраст, \n",
        "- SibSp - количество братьев/сестёр/мужа/жены на борту, \n",
        "- Parch - количество детей/родителей на борту, \n",
        "- Ticket - номер билета, \n",
        "- Fare - стоимость поездки, \n",
        "- Cabin - номер каюты, \n",
        "- Embarked - порт, в котором пассажир сел на борт (C - Cherbourg, S - Southampton, Q = Queenstown).\n",
        "\n",
        "Некоторые критерии (например, номер билета или номер каюты) скорее всего оказывают минимальное влияние на выживаемость, если они все уникальны и не повторяются, что мы далее проверим.\n"
      ]
    },
    {
      "cell_type": "markdown",
      "metadata": {
        "id": "HCV0uFpcoYkT",
        "colab_type": "text"
      },
      "source": [
        "Первый столбец PassengerId для тренировки модели не требуется -- он просто содержит идентификаторы пассажиров для удобства их обработки, поэтому в тестовой выборке будет не 12, а 11 признаков, без PassengerId."
      ]
    },
    {
      "cell_type": "markdown",
      "metadata": {
        "id": "U4L7dXOGoYkU",
        "colab_type": "text"
      },
      "source": [
        "# Разбираемся с признаками\n",
        "\n",
        "Во-первых, надо определить **категориальные признаки** -- признаки, значения которых однозначно указывают на принадлежность объекта к конкретной категории. Например, значения пола male или female однозначно задают принадлежность объекта к категории \"мужчина\" или \"женщина\". Эти признаки, соответственно, Sex, Survived и Embarked. Кроме того, близки к ним по смыслу **порядковые признаки** -- в данном случае Pclass, где конкретные состояния просто оцифрованы.\n",
        "\n",
        "Во-вторых, определим **числовые признаки**. Непрерывными числовыми признаками будут Age и Fare (они могут принимать любые вещественные значения), дискретными -- SibSp и Parch (целые значения).\n",
        "\n",
        "В-третьих, **некоторые признаки могут иметь смешанный тип** -- это Ticket (как видно, могут быть и числа, и буквы, и символы, и их смесь) и Cabin.\n",
        "\n",
        "В-четвёртых, **некоторые признаки могут содержать ошибки**, опечатки, и если датасет большой, выявить их визуально практически нереально.\n",
        "\n",
        "В-пятых, **некоторые признаки могут содержать пустые значения или пробелы**, или значения могут отсутствовать. Видно, что и Cabin, и Age местами  не имеют значений (NaN).\n"
      ]
    },
    {
      "cell_type": "markdown",
      "metadata": {
        "id": "kw_J5ar7oYkW",
        "colab_type": "text"
      },
      "source": [
        "# Используем возможности pandas\n",
        "\n",
        "Сейчас данные у нас загружены в так называемый датафрейм (DataFrame) -- удобный тип данных пакета Pandas, который позволяет выполнять различные статистические манипуляции над содержимым (датасетом).\n",
        "\n",
        "Обращение к методу info() выведет в консоль подробную информацию о типах данных признаков (столбцов) датафрейма (обратите внимание, что print вызывать не надо). У нас два признака вещественного типа, пять признаков целого типа и пять строковых признаков.  "
      ]
    },
    {
      "cell_type": "code",
      "metadata": {
        "trusted": true,
        "id": "rySePvfJoYkY",
        "colab_type": "code",
        "outputId": "90fb3370-eebf-4db0-93aa-88904453253c",
        "colab": {}
      },
      "source": [
        "dataset.info()"
      ],
      "execution_count": 0,
      "outputs": [
        {
          "output_type": "stream",
          "text": [
            "<class 'pandas.core.frame.DataFrame'>\n",
            "RangeIndex: 891 entries, 0 to 890\n",
            "Data columns (total 12 columns):\n",
            "PassengerId    891 non-null int64\n",
            "Survived       891 non-null int64\n",
            "Pclass         891 non-null int64\n",
            "Name           891 non-null object\n",
            "Sex            891 non-null object\n",
            "Age            714 non-null float64\n",
            "SibSp          891 non-null int64\n",
            "Parch          891 non-null int64\n",
            "Ticket         891 non-null object\n",
            "Fare           891 non-null float64\n",
            "Cabin          204 non-null object\n",
            "Embarked       889 non-null object\n",
            "dtypes: float64(2), int64(5), object(5)\n",
            "memory usage: 83.7+ KB\n"
          ],
          "name": "stdout"
        }
      ]
    },
    {
      "cell_type": "markdown",
      "metadata": {
        "id": "rXdmXcctoYke",
        "colab_type": "text"
      },
      "source": [
        "Метод describe() выдаст различную обобщённую статистику по набору данных -- по всем числовым признакам:"
      ]
    },
    {
      "cell_type": "code",
      "metadata": {
        "trusted": true,
        "id": "kzkTwpPpoYkg",
        "colab_type": "code",
        "outputId": "2bd0469f-720a-45e7-a61b-307cd955f799",
        "colab": {}
      },
      "source": [
        "dataset.describe()"
      ],
      "execution_count": 0,
      "outputs": [
        {
          "output_type": "execute_result",
          "data": {
            "text/plain": [
              "       PassengerId    Survived      Pclass         Age       SibSp  \\\n",
              "count   891.000000  891.000000  891.000000  714.000000  891.000000   \n",
              "mean    446.000000    0.383838    2.308642   29.699118    0.523008   \n",
              "std     257.353842    0.486592    0.836071   14.526497    1.102743   \n",
              "min       1.000000    0.000000    1.000000    0.420000    0.000000   \n",
              "25%     223.500000    0.000000    2.000000   20.125000    0.000000   \n",
              "50%     446.000000    0.000000    3.000000   28.000000    0.000000   \n",
              "75%     668.500000    1.000000    3.000000   38.000000    1.000000   \n",
              "max     891.000000    1.000000    3.000000   80.000000    8.000000   \n",
              "\n",
              "            Parch        Fare  \n",
              "count  891.000000  891.000000  \n",
              "mean     0.381594   32.204208  \n",
              "std      0.806057   49.693429  \n",
              "min      0.000000    0.000000  \n",
              "25%      0.000000    7.910400  \n",
              "50%      0.000000   14.454200  \n",
              "75%      0.000000   31.000000  \n",
              "max      6.000000  512.329200  "
            ],
            "text/html": [
              "<div>\n",
              "<style scoped>\n",
              "    .dataframe tbody tr th:only-of-type {\n",
              "        vertical-align: middle;\n",
              "    }\n",
              "\n",
              "    .dataframe tbody tr th {\n",
              "        vertical-align: top;\n",
              "    }\n",
              "\n",
              "    .dataframe thead th {\n",
              "        text-align: right;\n",
              "    }\n",
              "</style>\n",
              "<table border=\"1\" class=\"dataframe\">\n",
              "  <thead>\n",
              "    <tr style=\"text-align: right;\">\n",
              "      <th></th>\n",
              "      <th>PassengerId</th>\n",
              "      <th>Survived</th>\n",
              "      <th>Pclass</th>\n",
              "      <th>Age</th>\n",
              "      <th>SibSp</th>\n",
              "      <th>Parch</th>\n",
              "      <th>Fare</th>\n",
              "    </tr>\n",
              "  </thead>\n",
              "  <tbody>\n",
              "    <tr>\n",
              "      <td>count</td>\n",
              "      <td>891.000000</td>\n",
              "      <td>891.000000</td>\n",
              "      <td>891.000000</td>\n",
              "      <td>714.000000</td>\n",
              "      <td>891.000000</td>\n",
              "      <td>891.000000</td>\n",
              "      <td>891.000000</td>\n",
              "    </tr>\n",
              "    <tr>\n",
              "      <td>mean</td>\n",
              "      <td>446.000000</td>\n",
              "      <td>0.383838</td>\n",
              "      <td>2.308642</td>\n",
              "      <td>29.699118</td>\n",
              "      <td>0.523008</td>\n",
              "      <td>0.381594</td>\n",
              "      <td>32.204208</td>\n",
              "    </tr>\n",
              "    <tr>\n",
              "      <td>std</td>\n",
              "      <td>257.353842</td>\n",
              "      <td>0.486592</td>\n",
              "      <td>0.836071</td>\n",
              "      <td>14.526497</td>\n",
              "      <td>1.102743</td>\n",
              "      <td>0.806057</td>\n",
              "      <td>49.693429</td>\n",
              "    </tr>\n",
              "    <tr>\n",
              "      <td>min</td>\n",
              "      <td>1.000000</td>\n",
              "      <td>0.000000</td>\n",
              "      <td>1.000000</td>\n",
              "      <td>0.420000</td>\n",
              "      <td>0.000000</td>\n",
              "      <td>0.000000</td>\n",
              "      <td>0.000000</td>\n",
              "    </tr>\n",
              "    <tr>\n",
              "      <td>25%</td>\n",
              "      <td>223.500000</td>\n",
              "      <td>0.000000</td>\n",
              "      <td>2.000000</td>\n",
              "      <td>20.125000</td>\n",
              "      <td>0.000000</td>\n",
              "      <td>0.000000</td>\n",
              "      <td>7.910400</td>\n",
              "    </tr>\n",
              "    <tr>\n",
              "      <td>50%</td>\n",
              "      <td>446.000000</td>\n",
              "      <td>0.000000</td>\n",
              "      <td>3.000000</td>\n",
              "      <td>28.000000</td>\n",
              "      <td>0.000000</td>\n",
              "      <td>0.000000</td>\n",
              "      <td>14.454200</td>\n",
              "    </tr>\n",
              "    <tr>\n",
              "      <td>75%</td>\n",
              "      <td>668.500000</td>\n",
              "      <td>1.000000</td>\n",
              "      <td>3.000000</td>\n",
              "      <td>38.000000</td>\n",
              "      <td>1.000000</td>\n",
              "      <td>0.000000</td>\n",
              "      <td>31.000000</td>\n",
              "    </tr>\n",
              "    <tr>\n",
              "      <td>max</td>\n",
              "      <td>891.000000</td>\n",
              "      <td>1.000000</td>\n",
              "      <td>3.000000</td>\n",
              "      <td>80.000000</td>\n",
              "      <td>8.000000</td>\n",
              "      <td>6.000000</td>\n",
              "      <td>512.329200</td>\n",
              "    </tr>\n",
              "  </tbody>\n",
              "</table>\n",
              "</div>"
            ]
          },
          "metadata": {
            "tags": []
          },
          "execution_count": 13
        }
      ]
    },
    {
      "cell_type": "markdown",
      "metadata": {
        "id": "qOuE0ZsAoYkj",
        "colab_type": "text"
      },
      "source": [
        "Видно например, что для Age недостаёт довольно большого количества значений -- в строке count (количество значений) конкретных возрастов всего 714, хотя в датасете 891 запись.\n",
        "\n",
        "Как увидеть статистику и по категориальным признакам? Для этого надо выполнить следующий вызов:\n"
      ]
    },
    {
      "cell_type": "code",
      "metadata": {
        "trusted": true,
        "id": "X1QsI-WNoYkk",
        "colab_type": "code",
        "outputId": "731e2afd-fbae-4eaf-e35f-eecd30de8466",
        "colab": {}
      },
      "source": [
        "dataset.describe(include=['O'])"
      ],
      "execution_count": 0,
      "outputs": [
        {
          "output_type": "execute_result",
          "data": {
            "text/plain": [
              "                                         Name   Sex Ticket Cabin Embarked\n",
              "count                                     891   891    891   204      889\n",
              "unique                                    891     2    681   147        3\n",
              "top     Ryerson, Miss. Susan Parker \"Suzette\"  male   1601    G6        S\n",
              "freq                                        1   577      7     4      644"
            ],
            "text/html": [
              "<div>\n",
              "<style scoped>\n",
              "    .dataframe tbody tr th:only-of-type {\n",
              "        vertical-align: middle;\n",
              "    }\n",
              "\n",
              "    .dataframe tbody tr th {\n",
              "        vertical-align: top;\n",
              "    }\n",
              "\n",
              "    .dataframe thead th {\n",
              "        text-align: right;\n",
              "    }\n",
              "</style>\n",
              "<table border=\"1\" class=\"dataframe\">\n",
              "  <thead>\n",
              "    <tr style=\"text-align: right;\">\n",
              "      <th></th>\n",
              "      <th>Name</th>\n",
              "      <th>Sex</th>\n",
              "      <th>Ticket</th>\n",
              "      <th>Cabin</th>\n",
              "      <th>Embarked</th>\n",
              "    </tr>\n",
              "  </thead>\n",
              "  <tbody>\n",
              "    <tr>\n",
              "      <td>count</td>\n",
              "      <td>891</td>\n",
              "      <td>891</td>\n",
              "      <td>891</td>\n",
              "      <td>204</td>\n",
              "      <td>889</td>\n",
              "    </tr>\n",
              "    <tr>\n",
              "      <td>unique</td>\n",
              "      <td>891</td>\n",
              "      <td>2</td>\n",
              "      <td>681</td>\n",
              "      <td>147</td>\n",
              "      <td>3</td>\n",
              "    </tr>\n",
              "    <tr>\n",
              "      <td>top</td>\n",
              "      <td>Ryerson, Miss. Susan Parker \"Suzette\"</td>\n",
              "      <td>male</td>\n",
              "      <td>1601</td>\n",
              "      <td>G6</td>\n",
              "      <td>S</td>\n",
              "    </tr>\n",
              "    <tr>\n",
              "      <td>freq</td>\n",
              "      <td>1</td>\n",
              "      <td>577</td>\n",
              "      <td>7</td>\n",
              "      <td>4</td>\n",
              "      <td>644</td>\n",
              "    </tr>\n",
              "  </tbody>\n",
              "</table>\n",
              "</div>"
            ]
          },
          "metadata": {
            "tags": []
          },
          "execution_count": 14
        }
      ]
    },
    {
      "cell_type": "markdown",
      "metadata": {
        "id": "zpbSj2B5oYkn",
        "colab_type": "text"
      },
      "source": [
        "Из этой таблички понятно, что имена Name все уникальные, а вот среди билетов например несколько сотен одинаковых. Мужчин 577 из 891. Среди номеров кают тоже есть одинаковые -- это значит, что в одной каюте располагалось несколько пассажиров. Из порта посадки пассажиров самым популярным оказался S (Southampton)."
      ]
    },
    {
      "cell_type": "markdown",
      "metadata": {
        "id": "IvUFvRwKoYko",
        "colab_type": "text"
      },
      "source": [
        "# **Выдвигаем гипотезы**\n",
        "\n",
        "Теперь, получив минимальное представление о наших сырых данных, попробуем выдвинуть ряд гипотез, и затем проверим их правильность.\n",
        "\n",
        "**Корреляция.** Важнее всего нам понять, какие признаки коррелируют с выживанием наиболее сильно.\n",
        "\n",
        "**Целостность.** Хотелось бы как-то полностью, без пробелов заполнить Age -- возраст наверняка связан с выживаемостью. Желательно также обработать до конца и признак Embarked, где тоже встречаются отсутствующие значения.\n",
        "\n",
        "**Корректировки.** Ticket можно исключить из анализа, потому что этот признак содержит большое количество дубликатов (22%), и связь между номером билета и выживаемостью скорее всего отсутствует.\n",
        "Номер каюты Cabin также может быть опущен, потому что в этом признаке слишком много неполных и нулевых значений.\n",
        "PassengerId можно спокойно исключить из обучающей выборки, поскольку он не имеет никакой связи с выживанием.\n",
        "И наконец имена пассажиров (уникальные значения) по всей видимости напрямую не могут влиять на выживание, и этот признак так же может быть удалён.\n",
        "\n",
        "**Расширения.** В то же время некоторые признаки было бы удобно объединить в более наглядный и более подходящий для анализа формат. Так, новый признак Family может объединить два признака SibSp и Parch (количество всех родственников). Из признака Name можно попробовать извлечь Title (стандартное звание, обращение, должность).\n",
        "Возраст Age удобнее превратить в категориальный порядковый признак с фиксированным диапазоном.\n",
        "Аналогично можно поэкспериментировать и с Fare.\n",
        "\n",
        "**Классификация.** Кроме того, воспользуемся исходно доступной информацией о том, что женщины (значение female для Sex), дети (Age меньше какого-то порога) и пассажиры первого класса (Pclass = 1) имели больше шансов спастись.\n",
        "\n",
        "---\n"
      ]
    },
    {
      "cell_type": "markdown",
      "metadata": {
        "id": "vAXWJweBoYkp",
        "colab_type": "text"
      },
      "source": [
        "Воспользуемся стандартными возможностями пакета pandas, которые немного напоминают возможности языка запросов SQL. Выделим два признака 'Pclass' и 'Survived', сгруппируем их по пассажирскому классу, посчитаем среднее и отсортируем результаты."
      ]
    },
    {
      "cell_type": "code",
      "metadata": {
        "trusted": true,
        "id": "G8hSuI0ZoYkp",
        "colab_type": "code",
        "colab": {}
      },
      "source": [
        "dataset[['Pclass', 'Survived']].groupby(['Pclass'], as_index=False).mean().sort_values(by='Survived', ascending=False)"
      ],
      "execution_count": 0,
      "outputs": []
    },
    {
      "cell_type": "markdown",
      "metadata": {
        "id": "kYGV2Ep1oYks",
        "colab_type": "text"
      },
      "source": [
        "Видна явная корреляция (> 0.6) первого класса пассажира с выживаемостью, поэтому этот признак надо включать в нашу модель. \n",
        "\n",
        "Аналогично проверим пол (гипотеза о высокой связи женского пола с выживанием):\n"
      ]
    },
    {
      "cell_type": "code",
      "metadata": {
        "trusted": true,
        "id": "aV5OLmAqoYkt",
        "colab_type": "code",
        "colab": {}
      },
      "source": [
        "dataset[['Sex', 'Survived']].groupby(['Sex'], as_index=False).mean().sort_values(by='Survived', ascending=False)"
      ],
      "execution_count": 0,
      "outputs": []
    },
    {
      "cell_type": "markdown",
      "metadata": {
        "id": "NoXnC8bKoYkv",
        "colab_type": "text"
      },
      "source": [
        "А вот для разных значений SibSp и Parch корреляция будет сильно плавать, от высоких значений до нуля,  поэтому лучше проверить гипотезу с новым интегрированным признаком Family."
      ]
    },
    {
      "cell_type": "code",
      "metadata": {
        "trusted": true,
        "id": "lLqZMs-DoYkw",
        "colab_type": "code",
        "colab": {}
      },
      "source": [
        "dataset[['SibSp', 'Survived']].groupby(['SibSp'], as_index=False).mean().sort_values(by='Survived', ascending=False)"
      ],
      "execution_count": 0,
      "outputs": []
    },
    {
      "cell_type": "markdown",
      "metadata": {
        "id": "T284fp3voYkz",
        "colab_type": "text"
      },
      "source": [
        "---\n",
        "\n",
        "# **Визуальные проверки гипотез**\n",
        "\n",
        "Человеку, понятно, гораздо комфортнее и гораздо эффективнее проверять возможные корреляции не изучением табличек с числами, а рассматриванием графиков, диаграмм, гистограмм и т. п. Например, давайте посмотрим, как возраст связан с выживаемостью.\n",
        "\n",
        "Для этого сперва импортируем библиотеки визуализации:\n"
      ]
    },
    {
      "cell_type": "code",
      "metadata": {
        "trusted": true,
        "id": "dnR3QL89oYk0",
        "colab_type": "code",
        "colab": {}
      },
      "source": [
        "import seaborn as sns\n",
        "import matplotlib.pyplot as plt"
      ],
      "execution_count": 0,
      "outputs": []
    },
    {
      "cell_type": "markdown",
      "metadata": {
        "id": "qu_su92ZoYk2",
        "colab_type": "text"
      },
      "source": [
        "Построим гистограмму Age - Survived:"
      ]
    },
    {
      "cell_type": "code",
      "metadata": {
        "trusted": true,
        "id": "D89o0yb-oYk3",
        "colab_type": "code",
        "colab": {}
      },
      "source": [
        "g = sns.FacetGrid(dataset, col='Survived')\n",
        "g.map(plt.hist, 'Age', bins=20)"
      ],
      "execution_count": 0,
      "outputs": []
    },
    {
      "cell_type": "markdown",
      "metadata": {
        "id": "6V6ze0mBoYk7",
        "colab_type": "text"
      },
      "source": [
        "Из этой гистограммы можно сразу сделать ряд важных выводов:\n",
        "- высокую выживаемость показали дети до четырёх лет включительно;\n",
        "- самый старый пассажир 80 лет выжил;\n",
        "- высокая смертность пришлась на молодых людей в возрасте 15-25 лет;\n",
        "- основная масса пассажиров была в возрасте 15-35 лет.\n"
      ]
    },
    {
      "cell_type": "markdown",
      "metadata": {
        "id": "1F6kSE1joYk8",
        "colab_type": "text"
      },
      "source": [
        "---\n",
        "\n",
        "Теперь аналогично проверим Pclass, но уже с разбиением гистаграмм по категориям пассажирского класса:"
      ]
    },
    {
      "cell_type": "code",
      "metadata": {
        "trusted": true,
        "id": "cBxwQZ1foYk9",
        "colab_type": "code",
        "colab": {}
      },
      "source": [
        "grid = sns.FacetGrid(dataset, col='Survived', row='Pclass', height=2.2, aspect=1.6)\n",
        "grid.map(plt.hist, 'Age', alpha=.5, bins=20)\n",
        "grid.add_legend()"
      ],
      "execution_count": 0,
      "outputs": []
    },
    {
      "cell_type": "markdown",
      "metadata": {
        "id": "_pS8l84boYlD",
        "colab_type": "text"
      },
      "source": [
        "Большинство пассажиров третьего класса не выжило, а пассажиры первого класса, наоборот, в основном остались в живых. Основная смертность пришлась на молодых людей 15-35 лет, плывших третьим классом.\n",
        "\n",
        "---\n",
        "\n",
        "Теперь проверим выживаемость в зависимости от пола и класса пассажиров с раскладкой по портам посадки: \n"
      ]
    },
    {
      "cell_type": "code",
      "metadata": {
        "trusted": true,
        "id": "cRevb4GDoYlE",
        "colab_type": "code",
        "colab": {}
      },
      "source": [
        "grid = sns.FacetGrid(dataset, row='Embarked', height=2.2, aspect=1.6)\n",
        "grid.map(sns.pointplot, 'Pclass', 'Survived', 'Sex', palette='deep')\n",
        "grid.add_legend()"
      ],
      "execution_count": 0,
      "outputs": []
    },
    {
      "cell_type": "markdown",
      "metadata": {
        "id": "ZRyu8O9PoYlI",
        "colab_type": "text"
      },
      "source": [
        "И в заключение выясним, играла ли роль цена билетов в спасении пассажиров. Для этого выполним раскладку зависимости цена - пол по портам посадки:"
      ]
    },
    {
      "cell_type": "code",
      "metadata": {
        "trusted": true,
        "id": "Pzw3MMjNoYlJ",
        "colab_type": "code",
        "colab": {}
      },
      "source": [
        "grid = sns.FacetGrid(dataset, row='Embarked', col='Survived', height=2.2, aspect=1.6)\n",
        "grid.map(sns.barplot, 'Sex', 'Fare', alpha=.5, ci=None)\n",
        "grid.add_legend()"
      ],
      "execution_count": 0,
      "outputs": []
    },
    {
      "cell_type": "markdown",
      "metadata": {
        "id": "hWzRKHAzoYlL",
        "colab_type": "text"
      },
      "source": [
        "И хотя особых различий в зависимости от пола нету, видна явная связь степени выживаемости от цены под влиянием места посадки пассажиров, поэтому и признак Fare тоже включим в нашу модель."
      ]
    },
    {
      "cell_type": "markdown",
      "metadata": {
        "id": "DZmqURogoYlM",
        "colab_type": "text"
      },
      "source": [
        "# **Спорные данные**\n",
        "\n",
        "По одним критериям мы приняли однозначный вывод об их полезности, а вот другие надо либо полностью удалять, либо объединять с другими. \n",
        "\n",
        "Сперва добавим новый признак Title, в котором будет одно из универсальных обращений (мистер, мисс, миссис, ...), а какие-то неопределенные обращения заменим на Rare:\n",
        " \n"
      ]
    },
    {
      "cell_type": "code",
      "metadata": {
        "trusted": true,
        "_uuid": "4db62430cd0965249cd85567a0a22a59e56b02ad",
        "id": "HS1a3wr5oYlN",
        "colab_type": "code",
        "colab": {}
      },
      "source": [
        "dataset_title = [i.split(',')[1].split('.')[0].strip() for i in dataset['Name']]\n",
        "dataset['Title'] = pd.Series(dataset_title)\n",
        "dataset['Title'].value_counts()\n",
        "dataset['Title'] = dataset['Title'].replace(['Lady', 'the Countess', 'Countess', 'Capt', 'Col', 'Don', 'Dr', 'Major', 'Rev', 'Sir', 'Jonkheer', 'Dona', 'Ms', 'Mme', 'Mlle'], 'Rare')\n",
        "\n",
        "dataset_title = [i.split(',')[1].split('.')[0].strip() for i in X_test['Name']]\n",
        "X_test['Title'] = pd.Series(dataset_title)\n",
        "X_test['Title'].value_counts()\n",
        "X_test['Title'] = X_test['Title'].replace(['Lady', 'the Countess', 'Countess', 'Capt', 'Col', 'Don', 'Dr', 'Major', 'Rev', 'Sir', 'Jonkheer', 'Dona', 'Ms', 'Mme', 'Mlle'], 'Rare')\n"
      ],
      "execution_count": 0,
      "outputs": []
    },
    {
      "cell_type": "markdown",
      "metadata": {
        "id": "xxeaUDnroYlQ",
        "colab_type": "text"
      },
      "source": [
        "И ещё один новый признак FamilyS заменит два признака SibSp и Parch не просто их суммой, а категориальной характеристикой \"один - два - средне - много\".\n"
      ]
    },
    {
      "cell_type": "code",
      "metadata": {
        "trusted": true,
        "id": "2F6dp_egoYlR",
        "colab_type": "code",
        "colab": {}
      },
      "source": [
        "dataset['FamilyS'] = dataset['SibSp'] + dataset['Parch'] + 1\n",
        "X_test['FamilyS'] = X_test['SibSp'] + X_test['Parch'] + 1"
      ],
      "execution_count": 0,
      "outputs": []
    },
    {
      "cell_type": "code",
      "metadata": {
        "trusted": true,
        "_uuid": "06bcd62c208a9f4987b5d9ae182163d1d36e2eae",
        "id": "S4FgA8_woYlT",
        "colab_type": "code",
        "colab": {}
      },
      "source": [
        "def family(x):\n",
        "    if x < 2:\n",
        "        return 'Single'\n",
        "    elif x == 2:\n",
        "        return 'Couple'\n",
        "    elif x <= 4:\n",
        "        return 'InterM'\n",
        "    else:\n",
        "        return 'Large'\n",
        "    \n",
        "dataset['FamilyS'] = dataset['FamilyS'].apply(family)\n",
        "X_test['FamilyS'] = X_test['FamilyS'].apply(family)"
      ],
      "execution_count": 0,
      "outputs": []
    },
    {
      "cell_type": "markdown",
      "metadata": {
        "id": "pcAdY5beoYlV",
        "colab_type": "text"
      },
      "source": [
        "Наконец, в признаках Age, Embarked и Fare заменим отсутствующие и пустые значения на нулевые или средние:"
      ]
    },
    {
      "cell_type": "code",
      "metadata": {
        "trusted": true,
        "_uuid": "82dbbb08eadc6bef94dbcf018ee60fdff8288668",
        "id": "6FQ6tHGpoYlW",
        "colab_type": "code",
        "colab": {}
      },
      "source": [
        "dataset['Embarked'].fillna(dataset['Embarked'].mode()[0], inplace=True)\n",
        "X_test['Embarked'].fillna(X_test['Embarked'].mode()[0], inplace=True)\n",
        "dataset['Age'].fillna(dataset['Age'].median(), inplace=True)\n",
        "X_test['Age'].fillna(X_test['Age'].median(), inplace=True)\n",
        "X_test['Fare'].fillna(X_test['Fare'].median(), inplace=True)"
      ],
      "execution_count": 0,
      "outputs": []
    },
    {
      "cell_type": "markdown",
      "metadata": {
        "id": "lmA81WIjoYlY",
        "colab_type": "text"
      },
      "source": [
        "Теперь можем удалить ненужные признаки:"
      ]
    },
    {
      "cell_type": "code",
      "metadata": {
        "trusted": true,
        "_uuid": "620ce83ee4ff808ea787ef08583575ef15d63888",
        "id": "l-F02MBMoYlZ",
        "colab_type": "code",
        "colab": {}
      },
      "source": [
        "dataset = dataset.drop(['PassengerId', 'Cabin', 'Name', 'SibSp', 'Parch', 'Ticket'], axis=1)\n",
        "X_test_passengers = X_test['PassengerId']\n",
        "X_test = X_test.drop(['PassengerId', 'Cabin', 'Name', 'SibSp', 'Parch', 'Ticket'], axis=1)"
      ],
      "execution_count": 0,
      "outputs": []
    },
    {
      "cell_type": "markdown",
      "metadata": {
        "id": "5oLejgproYlb",
        "colab_type": "text"
      },
      "source": [
        "Проверим, что получилось:"
      ]
    },
    {
      "cell_type": "code",
      "metadata": {
        "trusted": true,
        "id": "8Sw6WJE4oYld",
        "colab_type": "code",
        "colab": {}
      },
      "source": [
        "dataset.info()\n",
        "print(dataset.shape)\n",
        "print(X_test.shape)"
      ],
      "execution_count": 0,
      "outputs": []
    },
    {
      "cell_type": "markdown",
      "metadata": {
        "id": "kp-fyUOloYlf",
        "colab_type": "text"
      },
      "source": [
        "Итак, мы получили очищенные и улучшенные датасеты, которые теперь вполне пригодны для обучения модели. Теперь подготовим наборы данных в формате, требуемом моделями PyTorch. Для этого исходный обучающий набор надо разделить непосредственно на две группы -- данные X_train (семь признаков) и метки Y_train (один признак, результат \"выжил или нет\"). Тестовый набор оставим оригинальным."
      ]
    },
    {
      "cell_type": "code",
      "metadata": {
        "trusted": true,
        "_uuid": "ef54d377d5abe31de761a2543c373b0c510ae401",
        "id": "bfjdFgtToYlf",
        "colab_type": "code",
        "outputId": "8907e1af-5d04-401a-df74-420b5acb0e56",
        "colab": {}
      },
      "source": [
        "X_train = dataset.iloc[:, 1:9].values\n",
        "Y_train = dataset.iloc[:, 0].values\n",
        "X_test = X_test.values\n",
        "print(X_train.shape, X_test.shape)"
      ],
      "execution_count": 0,
      "outputs": [
        {
          "output_type": "stream",
          "text": [
            "(891, 7) (418, 7)\n"
          ],
          "name": "stdout"
        }
      ]
    },
    {
      "cell_type": "markdown",
      "metadata": {
        "id": "gK7DGZ40oYli",
        "colab_type": "text"
      },
      "source": [
        "Всего существует около сотни типовых алгоритмов, стандартных моделей, которые мы могли бы применить к нашим задачам. В общем случае, они лучше работают с наборами данных, где все признаки числовые, хотя смысл их остаётся \"качественным\". Но по этой технической причине желательно преобразовать наши категориальные и текстовые признаки в числовые. Таких признаков у нас четыре. Пол очевидно преобразуется в 1/0, а что с остальными?"
      ]
    },
    {
      "cell_type": "markdown",
      "metadata": {
        "id": "I84zx20ooYlj",
        "colab_type": "text"
      },
      "source": [
        "---\n",
        "\n",
        "Воспользуемся кодировщиком LabelEncoder() из стандартной библиотеки SciKit Learn, который выполнит нужные нам манипуляции некоторым удовлетворительным типовым способом (каждое значение признака будет заменено уникальным целым числом)."
      ]
    },
    {
      "cell_type": "code",
      "metadata": {
        "trusted": true,
        "_uuid": "813ccdbc8e16e80a7401157e56523a5c75c534f0",
        "id": "I4o1HeLqoYlj",
        "colab_type": "code",
        "colab": {}
      },
      "source": [
        "from sklearn.preprocessing import LabelEncoder, OneHotEncoder\n",
        "labelencoder_X_1 = LabelEncoder()\n",
        "X_train[:, 1] = labelencoder_X_1.fit_transform(X_train[:, 1])\n",
        "X_train[:, 4] = labelencoder_X_1.fit_transform(X_train[:, 4])\n",
        "X_train[:, 5] = labelencoder_X_1.fit_transform(X_train[:, 5])\n",
        "X_train[:, 6] = labelencoder_X_1.fit_transform(X_train[:, 6])\n",
        "\n",
        "labelencoder_X_2 = LabelEncoder()\n",
        "X_test[:, 1] = labelencoder_X_2.fit_transform(X_test[:, 1])\n",
        "X_test[:, 4] = labelencoder_X_2.fit_transform(X_test[:, 4])\n",
        "X_test[:, 5] = labelencoder_X_2.fit_transform(X_test[:, 5])\n",
        "X_test[:, 6] = labelencoder_X_2.fit_transform(X_test[:, 6])"
      ],
      "execution_count": 0,
      "outputs": []
    },
    {
      "cell_type": "markdown",
      "metadata": {
        "id": "JqrAor7ZoYll",
        "colab_type": "text"
      },
      "source": [
        "Но для того, чтобы не смутить нашу модель, которая может ошибочно принять категориальные признаки в числовом формате за какие-то скрытые внутренние закономерности, к результатам работы LabelEncoder() дополнительно применяется OneHotEncoder(), который создаёт не один, а несколько столбцов, упрощающих восприятие моделью исходного признака как категориального.\n",
        " \n",
        "Подробнее о работе подобных кодировщиков тут: https://habr.com/ru/post/456294/ \n"
      ]
    },
    {
      "cell_type": "code",
      "metadata": {
        "trusted": true,
        "_uuid": "dc53b0cc7ab0b0130f2933eba0f1aabb05025518",
        "id": "R6SEn7NioYlm",
        "colab_type": "code",
        "colab": {}
      },
      "source": [
        "one_hot_encoder = OneHotEncoder(categorical_features = [0, 1, 4, 5, 6])\n",
        "X_train = one_hot_encoder.fit_transform(X_train).toarray()\n",
        "X_test = one_hot_encoder.fit_transform(X_test).toarray()\n",
        "print(X_train.shape)\n",
        "print(X_test.shape)"
      ],
      "execution_count": 0,
      "outputs": []
    },
    {
      "cell_type": "markdown",
      "metadata": {
        "id": "gNXCFtjnoYlp",
        "colab_type": "text"
      },
      "source": [
        "В результате вместо 7 признаков у нас получится 19 признаков.\n",
        "\n",
        "И в заключение подготовки разделим случайным образом наши датасеты на обучающие и тестовые выборки, чтобы избавиться от возможного влияния предыдущих действий."
      ]
    },
    {
      "cell_type": "code",
      "metadata": {
        "trusted": true,
        "_uuid": "4444e870e198520bbbd400b780cafb88571feb8b",
        "id": "0QRTqhe4oYlq",
        "colab_type": "code",
        "outputId": "75cbbfd9-8ab1-4383-d8af-869415772935",
        "colab": {}
      },
      "source": [
        "from sklearn.model_selection import train_test_split\n",
        "\n",
        "x_train, x_val, y_train, y_val = train_test_split(X_train, Y_train, test_size = 0.1)\n",
        "print(x_train.shape, y_train.shape, x_val.shape, y_val.shape)"
      ],
      "execution_count": 0,
      "outputs": [
        {
          "output_type": "stream",
          "text": [
            "(801, 19) (801,) (90, 19) (90,)\n"
          ],
          "name": "stdout"
        }
      ]
    },
    {
      "cell_type": "markdown",
      "metadata": {
        "id": "vTZ6CgAjoYlv",
        "colab_type": "text"
      },
      "source": [
        "# Задание 1\n",
        "\n",
        "Скорее всего, при выполнении данного ноутбука в некоторых случаях возникали предупреждающие сообщения, связанные с тем, что фреймворки машинного обучения сегодня очень активно развиваются, и некоторые фичи быстро становятся устаревшими. Постарайтесь от них избавиться -- разберитесь в причинах и выясните, как правильно вызывать те или иные функции. \n",
        "\n",
        "Особое внимание уделите предупреждению, возникающему при вызове OneHotEncoder() -- рекомендовано переходить на использование ColumnTransformer(). Подкорректируйте данный код, чтобы он корректно работал с ColumnTransformer(), но проследите, чтобы структура и состав результирующего датасета не изменились в сравнении с оригинальной версией."
      ]
    },
    {
      "cell_type": "markdown",
      "metadata": {
        "id": "oXYjb4C4oYlw",
        "colab_type": "text"
      },
      "source": [
        "---\n",
        "## **Часть 2. Участвуем в конкурсе**\n",
        "\n",
        "Завершаем наш первый курс отправкой результатов на сервера Kaggle и участием в итоговом рейтинге.\n",
        "\n",
        "---\n"
      ]
    },
    {
      "cell_type": "markdown",
      "metadata": {
        "id": "mnOdee9zoYlx",
        "colab_type": "text"
      },
      "source": [
        "Добавим наш шаблон -- шаг обучения, и основной код процесса обучения модели:"
      ]
    },
    {
      "cell_type": "code",
      "metadata": {
        "trusted": true,
        "id": "4pRx5m_coYlx",
        "colab_type": "code",
        "colab": {}
      },
      "source": [
        "# импортируем нужные библиотеки\n",
        "import torch\n",
        "import numpy as np # всегда пригодится :)\n",
        "\n",
        "# инициализируем девайс\n",
        "device = 'cuda' if torch.cuda.is_available() else 'cpu'\n",
        "\n",
        "# добавляем типовую функцию \"шаг обучения\"\n",
        "def make_train_step(model, loss_fn, optimizer):\n",
        "    def train_step(x, y):\n",
        "        model.train()\n",
        "        yhat = model(x)\n",
        "        loss = loss_fn(yhat, y)\n",
        "        loss.backward()\n",
        "        optimizer.step()\n",
        "        optimizer.zero_grad()\n",
        "        return loss.item()\n",
        "    return train_step"
      ],
      "execution_count": 0,
      "outputs": []
    },
    {
      "cell_type": "markdown",
      "metadata": {
        "id": "5M4PP5fwoYlz",
        "colab_type": "text"
      },
      "source": [
        "В случае, когда мы не знаем, какую из стандартных моделей использовать, проще всего начать с двухслойной нейронной сети (занятие 4). Она содержит скрытый слой ReLU() и выходной линейный и запишется так:\n",
        "\n",
        "```\n",
        "torch.nn.Sequential(\n",
        "     nn.Linear(19, 270),\n",
        "     nn.ReLU(),\n",
        "     nn.Linear(270, 2))\n",
        "```\n",
        "\n",
        "Количество 270 нейронов в данном случае взято несколько условно.\n",
        "\n",
        "Задействуем также уже знакомые нам стандартную функцию потерь CrossEntropyLoss() и оптимизатор Adam.\n"
      ]
    },
    {
      "cell_type": "code",
      "metadata": {
        "trusted": true,
        "id": "wrch7LCKoYl0",
        "colab_type": "code",
        "colab": {}
      },
      "source": [
        "from torch import optim, nn\n",
        "\n",
        "model = torch.nn.Sequential(\n",
        "    nn.Linear(19, 270),\n",
        "    nn.ReLU(),\n",
        "    nn.Linear(270, 2))\n",
        "\n",
        "lr = 0.01\n",
        "n_epochs = 50\n",
        "loss_fn = torch.nn.CrossEntropyLoss()\n",
        "optimizer = optim.Adam(model.parameters(), lr=lr)\n",
        "train_step = make_train_step(model, loss_fn, optimizer)\n",
        "\n",
        "from sklearn.utils import shuffle\n",
        "\n",
        "for epoch in range(n_epochs):\n",
        "    if epoch % 5 == 0:\n",
        "        print('Эпоха {}'.format(epoch+1))\n",
        "    x_train, y_train = shuffle(x_train, y_train) # случайно перетасуем данные\n",
        "    X = torch.FloatTensor(x_train)\n",
        "    y = torch.LongTensor(y_train)\n",
        "    loss = train_step(X, y)\n",
        "    \n",
        "print(loss)"
      ],
      "execution_count": 0,
      "outputs": []
    },
    {
      "cell_type": "markdown",
      "metadata": {
        "id": "VP1jt3Q4oYl1",
        "colab_type": "text"
      },
      "source": [
        "Прогоним обученную модель через тестовую выборку -- точность будет плавать в районе 80%."
      ]
    },
    {
      "cell_type": "code",
      "metadata": {
        "trusted": true,
        "id": "0cpfl8RsoYl2",
        "colab_type": "code",
        "outputId": "d31b0eb0-0c0f-43c4-a1ba-bca6fac996f2",
        "colab": {}
      },
      "source": [
        "# оцениваем модель:\n",
        "test_var = torch.FloatTensor(x_val)\n",
        "with torch.no_grad():\n",
        "    result = model(test_var)\n",
        "values, labels = torch.max(result, 1)\n",
        "num_right = np.sum(labels.data.numpy() == y_val)\n",
        "print('Точность {:.2f}'.format(num_right / len(y_val)))"
      ],
      "execution_count": 0,
      "outputs": [
        {
          "output_type": "stream",
          "text": [
            "Точность 0.84\n"
          ],
          "name": "stdout"
        }
      ]
    },
    {
      "cell_type": "markdown",
      "metadata": {
        "id": "57hxB1BdoYl6",
        "colab_type": "text"
      },
      "source": [
        "Предпоследний шаг: надо подготовить результаты работы нашей модели в файле **submission.csv**, который будет содержать два столбца. В первом указывается идентификатор пассажира, во втором -- результат работы нашей модели, которая предсказывает, выжил он или нет 1/0. Этот файл мы и отправим на соревновательный сервер. В качестве данных, по которым выдаётся прогноз, напомню, используем стандартные конкурсные данные, которые мы загрузили в датасет X_test."
      ]
    },
    {
      "cell_type": "markdown",
      "metadata": {
        "id": "kTHMuCCOoYl6",
        "colab_type": "text"
      },
      "source": [
        "Считаем прогноз с помощью нашей обученной модели по X_test:"
      ]
    },
    {
      "cell_type": "code",
      "metadata": {
        "trusted": true,
        "id": "H4Hlnkv_oYl7",
        "colab_type": "code",
        "colab": {}
      },
      "source": [
        "import csv\n",
        "\n",
        "with torch.no_grad():\n",
        "    result = model(torch.FloatTensor(X_test))\n",
        "values, labels = torch.max(result, 1)\n",
        "survived = labels.data.numpy()\n",
        "submission = [['PassengerId', 'Survived']]\n",
        "for i in range(len(survived)):\n",
        "    submission.append([X_test_passengers[i], survived[i]])"
      ],
      "execution_count": 0,
      "outputs": []
    },
    {
      "cell_type": "markdown",
      "metadata": {
        "id": "yE9yBSMXoYmA",
        "colab_type": "text"
      },
      "source": [
        "Выводим датасет в файл:"
      ]
    },
    {
      "cell_type": "code",
      "metadata": {
        "trusted": true,
        "id": "AUE2sl9VoYmA",
        "colab_type": "code",
        "colab": {}
      },
      "source": [
        "with open('submission.csv', 'w') as submissionFile:\n",
        "    writer = csv.writer(submissionFile)\n",
        "    writer.writerows(submission)\n",
        "    \n",
        "print('Файл для соревнования подготовлен!')"
      ],
      "execution_count": 0,
      "outputs": []
    },
    {
      "cell_type": "markdown",
      "metadata": {
        "id": "bcPUXXFYoYmE",
        "colab_type": "text"
      },
      "source": [
        "Проверим визуально содержимое файла:"
      ]
    },
    {
      "cell_type": "code",
      "metadata": {
        "trusted": true,
        "id": "ySWZhJ9ZoYmE",
        "colab_type": "code",
        "colab": {}
      },
      "source": [
        "!head submission.csv"
      ],
      "execution_count": 0,
      "outputs": []
    },
    {
      "cell_type": "markdown",
      "metadata": {
        "id": "dLwd_kYHoYmG",
        "colab_type": "text"
      },
      "source": [
        "Теперь у нас всё готово для отправки результата на сервер Kaggle. Это можно сделать разными способами, вплоть до ручной загрузки CSV-файла в бразуере.\n",
        "\n",
        "Мы будем придерживаться самого правильного подхода -- программной отправки результатов. Для этого вам прежде всего надо скопировать свой секретный Kaggle-ключ. Его можно получить, зайдя в свой профиль, выбрав My Account и нажав в разделе API кнопку Create New API Token.\n",
        "\n",
        "Далее вы указываете свой логин на Kaggle и этот ключ в таком формате:\n"
      ]
    },
    {
      "cell_type": "code",
      "metadata": {
        "trusted": true,
        "id": "k6I6nstmoYmG",
        "colab_type": "code",
        "colab": {}
      },
      "source": [
        "%env KAGGLE_USERNAME=ваш-логин\n",
        "%env KAGGLE_KEY=ваш-секретный-ключ-kaggle\n",
        "!export -p | grep KAGGLE_"
      ],
      "execution_count": 0,
      "outputs": []
    },
    {
      "cell_type": "markdown",
      "metadata": {
        "id": "wo9WvW5GoYmJ",
        "colab_type": "text"
      },
      "source": [
        "Установим на нашу виртуалку API Kaggle:"
      ]
    },
    {
      "cell_type": "code",
      "metadata": {
        "trusted": true,
        "id": "-augFnatoYmK",
        "colab_type": "code",
        "colab": {}
      },
      "source": [
        "!pip install kaggle --upgrade"
      ],
      "execution_count": 0,
      "outputs": []
    },
    {
      "cell_type": "markdown",
      "metadata": {
        "id": "0VUcUd6YoYmL",
        "colab_type": "text"
      },
      "source": [
        "И наконец отправим наш файл на сервер (указываем идентификатор соревнования и наш файл):"
      ]
    },
    {
      "cell_type": "code",
      "metadata": {
        "trusted": true,
        "id": "od13qDjSoYmM",
        "colab_type": "code",
        "colab": {}
      },
      "source": [
        "!kaggle competitions submit -c titanic -f submission.csv -m \"Titanic-1\""
      ],
      "execution_count": 0,
      "outputs": []
    },
    {
      "cell_type": "markdown",
      "metadata": {
        "id": "bPK5LjdxoYmQ",
        "colab_type": "text"
      },
      "source": [
        "Результаты проверки и рейтинг можно увидеть, зайдя например в раздел Kaggle Competitions. Там будут показаны все конкурсы, в которых вы участвуете, а с правой стороны ваша позиция в рейтинге, например **8338/11671** (8338-е место из 11671 ноутбуков). \n",
        "\n",
        "На странице соревнования в разделе My Submissions покажутся все отправленные вами на конкурс файлы. Вы можете выбрать любой из них с наивысшим результатом, и включить галку Use for Final Score -- именно этот файл и станет вашим итоговым результатом в данном турнире.\n"
      ]
    },
    {
      "cell_type": "markdown",
      "metadata": {
        "id": "RNgUXiMcoYmQ",
        "colab_type": "text"
      },
      "source": [
        "# **Задание 2** \n",
        "\n",
        "По конкурсу Titanic доступно много готовых ноутбуков, которых показывают значительно лучшие результаты.\n",
        "Выберите какой-нибудь ноутбук, самостоятельно разберитесь в решении, выполните его рефакторинг по нашему шаблону и добейтесь лучшего результата.\n"
      ]
    }
  ]
}