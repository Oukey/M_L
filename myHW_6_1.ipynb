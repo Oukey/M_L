{
  "nbformat": 4,
  "nbformat_minor": 0,
  "metadata": {
    "colab": {
      "name": "myHW_6.ipynb",
      "provenance": [],
      "collapsed_sections": [],
      "include_colab_link": true
    },
    "kernelspec": {
      "name": "python3",
      "display_name": "Python 3"
    },
    "accelerator": "GPU"
  },
  "cells": [
    {
      "cell_type": "markdown",
      "metadata": {
        "id": "view-in-github",
        "colab_type": "text"
      },
      "source": [
        "<a href=\"https://colab.research.google.com/github/Oukey/M_L/blob/master/myHW_6_1.ipynb\" target=\"_parent\"><img src=\"https://colab.research.google.com/assets/colab-badge.svg\" alt=\"Open In Colab\"/></a>"
      ]
    },
    {
      "cell_type": "markdown",
      "metadata": {
        "id": "jX5f9p64CRIM",
        "colab_type": "text"
      },
      "source": [
        "## Задание 6. Классификация цветных изображений"
      ]
    },
    {
      "cell_type": "markdown",
      "metadata": {
        "id": "gpMItAP7CnFW",
        "colab_type": "text"
      },
      "source": [
        "Импорт нужных пакетов"
      ]
    },
    {
      "cell_type": "code",
      "metadata": {
        "id": "b68tmBkwCLwZ",
        "colab_type": "code",
        "colab": {}
      },
      "source": [
        "import torch\n",
        "import torch.nn as nn\n",
        "import torchvision\n",
        "import torchvision.datasets as dsets\n",
        "import torchvision.transforms as transforms"
      ],
      "execution_count": 0,
      "outputs": []
    },
    {
      "cell_type": "markdown",
      "metadata": {
        "id": "70OlaXbsDOVv",
        "colab_type": "text"
      },
      "source": [
        "Обработка стандартного датасета **CIFAR10**(фотографии десяти классов: автомобиль, самолет, птица, кот, олень, собака, лягушка, лошадь, корабль и грузовик). 60000 цветных изображений (50000 обучающих и 10000 тестовых)  размером 32*32 пиксела (RGB) "
      ]
    },
    {
      "cell_type": "code",
      "metadata": {
        "id": "AUDx49QdD6ke",
        "colab_type": "code",
        "colab": {}
      },
      "source": [
        "input_size = 3 * 32 * 32  # Количество цветов * размер изображения в точках\n",
        "num_classes = 10          # Количество классов (10 видов изображений)\n",
        "n_epochs = 10              # Количество эпох\n",
        "batch_size = 10            # Размер мини-пакета входных данных\n",
        "lr = 0.0001                # Скорость обучения "
      ],
      "execution_count": 0,
      "outputs": []
    },
    {
      "cell_type": "markdown",
      "metadata": {
        "id": "qbPitxg_GRsv",
        "colab_type": "text"
      },
      "source": [
        "Выполнение композиции трансформации с выполнением преобразования в тензоры с последующей нормализацией (преобразование цветных изображений в серую палитру)."
      ]
    },
    {
      "cell_type": "code",
      "metadata": {
        "id": "JeX6ZFTjH-YY",
        "colab_type": "code",
        "outputId": "6a843223-2f8a-4f91-9f04-192296c4e2a3",
        "colab": {
          "base_uri": "https://localhost:8080/",
          "height": 84
        }
      },
      "source": [
        "import torchvision.transforms as transforms\n",
        "\n",
        "transform = transforms.Compose(\n",
        "    [transforms.ToTensor(),\n",
        "     transforms.Normalize((0.5, 0.5, 0.5), (0.5, 0.5, 0.5))])\n",
        "\n",
        "# Обучающий датасет\n",
        "cifar_trainset = dsets.CIFAR10(root='./data', train=True, download=True, transform=transform)\n",
        "# Тестовый датасет\n",
        "cifar_testset = dsets.CIFAR10(root='./data', train=False, download=True, transform=transform)\n",
        "\n",
        "print('Размер обучающего датасета:', len(cifar_trainset))\n",
        "print('Размер тестового датасета:', len(cifar_testset))"
      ],
      "execution_count": 69,
      "outputs": [
        {
          "output_type": "stream",
          "text": [
            "Files already downloaded and verified\n",
            "Files already downloaded and verified\n",
            "Размер обучающего датасета: 50000\n",
            "Размер тестового датасета: 10000\n"
          ],
          "name": "stdout"
        }
      ]
    },
    {
      "cell_type": "markdown",
      "metadata": {
        "id": "vOQTDnjFLkBM",
        "colab_type": "text"
      },
      "source": [
        "Загрузка данных для обучения и тестирования"
      ]
    },
    {
      "cell_type": "code",
      "metadata": {
        "id": "rAWXKbDdLqDt",
        "colab_type": "code",
        "colab": {}
      },
      "source": [
        "train_loader = torch.utils.data.DataLoader(dataset=cifar_trainset, batch_size=batch_size, shuffle=True)\n",
        "test_loader = torch.utils.data.DataLoader(dataset=cifar_testset, batch_size=batch_size, shuffle=True)"
      ],
      "execution_count": 0,
      "outputs": []
    },
    {
      "cell_type": "markdown",
      "metadata": {
        "id": "JiBA54_CNqCz",
        "colab_type": "text"
      },
      "source": [
        "Инициализация девайса и стандартная фукция \"шаг обучения\""
      ]
    },
    {
      "cell_type": "code",
      "metadata": {
        "id": "VwhcBnF7N4Eu",
        "colab_type": "code",
        "colab": {}
      },
      "source": [
        "device = 'cuda' if torch.cuda.is_available() else 'cpu'\n",
        "\n",
        "def make_train_step(model, loss_fn, optimizer):\n",
        "    def train_step(x, y):\n",
        "        model.train()\n",
        "        yhat = model(x)\n",
        "        loss = loss_fn(yhat, y)\n",
        "        loss.backward()\n",
        "        optimizer.step()\n",
        "        optimizer.zero_grad()\n",
        "        return loss.item()\n",
        "    return train_step"
      ],
      "execution_count": 0,
      "outputs": []
    },
    {
      "cell_type": "markdown",
      "metadata": {
        "id": "XYA498M7PPTY",
        "colab_type": "text"
      },
      "source": [
        "Модель обучения"
      ]
    },
    {
      "cell_type": "code",
      "metadata": {
        "id": "1vaU60CfPRCP",
        "colab_type": "code",
        "colab": {}
      },
      "source": [
        "import torch.nn as nn\n",
        "import torch.nn.functional as F\n",
        "\n",
        "\n",
        "class CifarModel(nn.Module):\n",
        "    def __init__(self):\n",
        "        super(CifarModel, self).__init__()\n",
        "#         self.layer_1 = nn.Conv2d(3, 32, 5, 1, 2)\n",
        "#         self.layer_2 = nn.Conv2d(32, 64, 4, 1, 2)\n",
        "#         self.layer_3 = nn.Conv2d(64, 128, 3, 1, 2)\n",
        "        self.layer_1 = nn.Sequential(\n",
        "            nn.Conv2d(3, 32,  kernel_size=5, stride=1, padding=2),\n",
        "            nn.BatchNorm2d(32),\n",
        "            nn.ReLU(),\n",
        "            nn.MaxPool2d(kernel_size=2, stride=2))\n",
        "        self.layer_2 = nn.Sequential(\n",
        "            nn.Conv2d(32, 64,  kernel_size=4, stride=1, padding=2),\n",
        "            nn.BatchNorm2d(64),\n",
        "            nn.ReLU(),\n",
        "            nn.MaxPool2d(kernel_size=2, stride=2))\n",
        "        self.layer_3 = nn.Sequential(\n",
        "            nn.Conv2d(64, 128,  kernel_size=3, stride=1, padding=2),\n",
        "            nn.BatchNorm2d(128),\n",
        "            nn.ReLU(),\n",
        "            nn.MaxPool2d(kernel_size=2, stride=2))\n",
        "    \n",
        "        self.pool = nn.MaxPool2d(2, 2)\n",
        "        self.drop_out = nn.Dropout2d()\n",
        "        self.fc_1 = nn.Linear(128*5*5, 100)\n",
        "        self.fc_2 = nn.Linear(100, 20)\n",
        "        self.fc_3 = nn.Linear(20, 10)\n",
        "\n",
        "    def forward(self, x):\n",
        "        '''Определение потоков данных'''\n",
        "#         x = self.pool(F.relu(self.layer_1(x)))\n",
        "#         x = self.pool(F.relu(self.layer_2(x)))    \n",
        "#         x = self.pool(F.relu(self.layer_3(x)))\n",
        "        \n",
        "        x = self.layer_1(x)\n",
        "        x = self.layer_2(x)\n",
        "        x = self.layer_3(x)\n",
        "        x = x.reshape(x.size(0), -1)\n",
        "#         x = x.view(x.size(0), -1)\n",
        "        \n",
        "        x = self.drop_out(x)\n",
        "#         x = F.relu(self.fc_1(x))\n",
        "#         x = F.relu(self.fc_2(x))\n",
        "#         x = F.relu(self.fc_3(x))    \n",
        "        x = self.fc_1(x)\n",
        "        x = self.fc_2(x)\n",
        "        x = self.fc_3(x)\n",
        "#         x = self.drop_out(x)\n",
        "        return x\n",
        "        "
      ],
      "execution_count": 0,
      "outputs": []
    },
    {
      "cell_type": "markdown",
      "metadata": {
        "id": "rs71TWQQSk1I",
        "colab_type": "text"
      },
      "source": [
        "Обучение"
      ]
    },
    {
      "cell_type": "code",
      "metadata": {
        "id": "kvuGgpltSVbc",
        "colab_type": "code",
        "outputId": "dcdd3092-202b-4abf-9ac4-529ef06cdf05",
        "colab": {
          "base_uri": "https://localhost:8080/",
          "height": 34
        }
      },
      "source": [
        "from torch import optim, nn\n",
        "\n",
        "model = CifarModel()\n",
        "model.to(device)\n",
        "\n",
        "loss_fn = torch.nn.CrossEntropyLoss()\n",
        "optimizer = optim.Adam(model.parameters(), lr=lr)\n",
        "  \n",
        "train_step = make_train_step(model, loss_fn, optimizer)\n",
        "\n",
        "for epoch in range(n_epochs):\n",
        "    for images, labels in train_loader:\n",
        "        images = images.to(device)\n",
        "        labels = labels.to(device)\n",
        "        \n",
        "        loss = train_step(images, labels)\n",
        "        \n",
        "# print(model.state_dict())    \n",
        "print(loss)"
      ],
      "execution_count": 73,
      "outputs": [
        {
          "output_type": "stream",
          "text": [
            "0.67073655128479\n"
          ],
          "name": "stdout"
        }
      ]
    },
    {
      "cell_type": "markdown",
      "metadata": {
        "id": "Ltra7pYaSmxA",
        "colab_type": "text"
      },
      "source": [
        "Проверка точности"
      ]
    },
    {
      "cell_type": "code",
      "metadata": {
        "id": "dYrVfrK5SZZh",
        "colab_type": "code",
        "colab": {
          "base_uri": "https://localhost:8080/",
          "height": 34
        },
        "outputId": "678a711f-c66d-41cb-af42-8c9a5fedc0f7"
      },
      "source": [
        "\n",
        "with torch.no_grad(): # проверяем на тестовой выборке\n",
        "    correct = 0\n",
        "    total = 0\n",
        "    for images, labels in test_loader:\n",
        "        images = images.to(device)\n",
        "        labels = labels.to(device)\n",
        "        outputs = model(images)\n",
        "        _, predicted = torch.max(outputs.data, 1)\n",
        "        total += labels.size(0)\n",
        "        correct += (predicted == labels).sum().item()\n",
        "\n",
        "    print('Точность: {} %'.format(100 * correct / total))"
      ],
      "execution_count": 74,
      "outputs": [
        {
          "output_type": "stream",
          "text": [
            "Точность: 72.77 %\n"
          ],
          "name": "stdout"
        }
      ]
    },
    {
      "cell_type": "markdown",
      "metadata": {
        "id": "6yfZSeb3SuoE",
        "colab_type": "text"
      },
      "source": [
        "Визуализация результата"
      ]
    },
    {
      "cell_type": "code",
      "metadata": {
        "id": "mc5n0lw0SyjC",
        "colab_type": "code",
        "colab": {
          "base_uri": "https://localhost:8080/",
          "height": 154
        },
        "outputId": "1e2cb96d-d853-4ed1-ad7c-15a42fce2676"
      },
      "source": [
        "import matplotlib.pyplot as plt\n",
        "import numpy as np\n",
        "\n",
        "classes = ('самолёт', 'автомобиль', 'птица', 'кот', 'олень', 'собака', 'лягушка', 'лошадь', 'корабль', 'грузовик')\n",
        "\n",
        "def imshow(img):\n",
        "    img = img / 2 + 0.5\n",
        "    npimg = img.numpy()\n",
        "    plt.imshow(np.transpose(npimg, (1, 2, 0)))\n",
        "    plt.show()\n",
        "\n",
        "dataiter = iter(train_loader)\n",
        "images, labels = dataiter.next()\n",
        "\n",
        "imshow(torchvision.utils.make_grid(images))\n",
        "print('/'.join('%11s' % classes[labels[j]] for j in range(10)))\n"
      ],
      "execution_count": 75,
      "outputs": [
        {
          "output_type": "display_data",
          "data": {
            "image/png": "[encoded data removed]",
            "text/plain": [
              "<Figure size 432x288 with 1 Axes>"
            ]
          },
          "metadata": {
            "tags": []
          }
        },
        {
          "output_type": "stream",
          "text": [
            "    лягушка/   грузовик/ автомобиль/   грузовик/ автомобиль/ автомобиль/      олень/     лошадь/    лягушка/      птица\n"
          ],
          "name": "stdout"
        }
      ]
    },
    {
      "cell_type": "markdown",
      "metadata": {
        "id": "SinAb9uoS163",
        "colab_type": "text"
      },
      "source": [
        "Вычисление точности распознования по каждому из признаков"
      ]
    },
    {
      "cell_type": "code",
      "metadata": {
        "id": "m75iGEQhS7Tx",
        "colab_type": "code",
        "colab": {
          "base_uri": "https://localhost:8080/",
          "height": 185
        },
        "outputId": "00fc7317-ea50-4ad8-95e1-804371ce32da"
      },
      "source": [
        "class_correct = list(0. for i in range(10))\n",
        "class_total = list(0. for i in range(10))\n",
        "with torch.no_grad():\n",
        "    for data in test_loader:\n",
        "        images, labels = data\n",
        "        images = images.to(device)\n",
        "        labels = labels.to(device)        \n",
        "        outputs = model(images)\n",
        "        _, predicted = torch.max(outputs, 1)\n",
        "        c = (predicted == labels).squeeze()\n",
        "        for i in range(4):\n",
        "            label = labels[i]\n",
        "            class_correct[label] += c[i].item()\n",
        "            class_total[label] += 1\n",
        "\n",
        "\n",
        "for i in range(10):\n",
        "    print('Точность для %5s : %2d %%' % (\n",
        "        classes[i], 100 * class_correct[i] / class_total[i]))"
      ],
      "execution_count": 76,
      "outputs": [
        {
          "output_type": "stream",
          "text": [
            "Точность для самолёт : 81 %\n",
            "Точность для автомобиль : 85 %\n",
            "Точность для птица : 60 %\n",
            "Точность для   кот : 54 %\n",
            "Точность для олень : 63 %\n",
            "Точность для собака : 61 %\n",
            "Точность для лягушка : 84 %\n",
            "Точность для лошадь : 81 %\n",
            "Точность для корабль : 80 %\n",
            "Точность для грузовик : 81 %\n"
          ],
          "name": "stdout"
        }
      ]
    }
  ]
}